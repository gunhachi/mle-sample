{
  "nbformat": 4,
  "nbformat_minor": 0,
  "metadata": {
    "colab": {
      "name": "MLE-Fazz_BigQ_fcc.ipynb",
      "provenance": [],
      "collapsed_sections": []
    },
    "kernelspec": {
      "name": "python3",
      "display_name": "Python 3"
    },
    "language_info": {
      "name": "python"
    }
  },
  "cells": [
    {
      "cell_type": "markdown",
      "source": [
        "# MAIN PAGE\n",
        "This process took several context on data manipulation\n",
        "- Remove Irrelevant Values\n",
        "- Get Rid of Duplicate Values\n",
        "- Avoid Typos (and similar errors)\n",
        "- Convert Data Types\n",
        "- Take Care of Missing Values"
      ],
      "metadata": {
        "id": "qJ9-WcaFPl5x"
      }
    },
    {
      "cell_type": "code",
      "execution_count": null,
      "metadata": {
        "id": "Et7P8mWeUk7e",
        "colab": {
          "base_uri": "https://localhost:8080/"
        },
        "outputId": "b66cd395-d5f0-41d2-b8fa-486ff3c7bd13"
      },
      "outputs": [
        {
          "output_type": "stream",
          "name": "stdout",
          "text": [
            "Authenticated\n"
          ]
        }
      ],
      "source": [
        "from google.colab import auth\n",
        "auth.authenticate_user()\n",
        "print('Authenticated')"
      ]
    },
    {
      "cell_type": "code",
      "source": [
        "project_id = 'platinum-goods-352515'"
      ],
      "metadata": {
        "id": "b4B9udS2U5uJ"
      },
      "execution_count": null,
      "outputs": []
    },
    {
      "cell_type": "code",
      "source": [
        "import pandas as pd"
      ],
      "metadata": {
        "id": "TDi24Fs4xXJM"
      },
      "execution_count": null,
      "outputs": []
    },
    {
      "cell_type": "code",
      "source": [
        "from google.cloud import bigquery\n",
        "\n",
        "client = bigquery.Client(project=project_id)\n",
        "\n",
        "row_count = client.query('''\n",
        "  SELECT \n",
        "    COUNT(*) as total\n",
        "  FROM `platinum-goods-352515.mle_fazz.fcc_political_ads_broadcast_copy`''').to_dataframe().total[0]\n",
        "\n",
        "df = client.query('''\n",
        "  SELECT\n",
        "    *\n",
        "  FROM\n",
        "    `platinum-goods-352515.mle_fazz.fcc_political_ads_broadcast_copy`\n",
        "''').to_dataframe()\n",
        "\n",
        "print('Full dataset has %d rows' % row_count)"
      ],
      "metadata": {
        "id": "ffXF91bgWHrl",
        "colab": {
          "base_uri": "https://localhost:8080/"
        },
        "outputId": "ad74c3b5-800e-49ad-8c78-df99721f0bdf"
      },
      "execution_count": null,
      "outputs": [
        {
          "output_type": "stream",
          "name": "stdout",
          "text": [
            "Full dataset has 17910 rows\n"
          ]
        }
      ]
    },
    {
      "cell_type": "code",
      "source": [
        "df.head(3)"
      ],
      "metadata": {
        "colab": {
          "base_uri": "https://localhost:8080/",
          "height": 445
        },
        "id": "yDW_6UZOyGc7",
        "outputId": "432750e4-a1dd-4036-c77e-76a719208560"
      },
      "execution_count": null,
      "outputs": [
        {
          "output_type": "execute_result",
          "data": {
            "text/plain": [
              "  stationId callSign     service rfChannel virtualChannel  \\\n",
              "0     35693     KTVI  Digital TV        33              2   \n",
              "1     52808  KRCK-FM  FM Station       249           None   \n",
              "2     68833     WOYE  FM Station       247           None   \n",
              "\n",
              "  licenseExpirationDate  statusDate    status communityCity communityState  \\\n",
              "0            02/01/2022  06/16/2009  LICENSED     ST. LOUIS             MO   \n",
              "1            12/01/2021  06/28/2002  LICENSED         MECCA             CA   \n",
              "2            02/01/2028  07/24/2003  LICENSED    RIO GRANDE             PR   \n",
              "\n",
              "   ... partyZip2 partyState     partyPhone nielsenDma networkAfil  band  \\\n",
              "0  ...      None         TX  (972)373-8800  ST. LOUIS         FOX   UHF   \n",
              "1  ...      None         WY  (410)799-1740       None        None  None   \n",
              "2  ...      None         PR  (787)722-0973       None        None  None   \n",
              "\n",
              "  authAppId postCardId                                  mainStudioContact  \\\n",
              "0   2035699       None  {'address1': '2250 Ball Drive', 'address2': No...   \n",
              "1   1737967       None  {'address1': None, 'address2': None, 'city': N...   \n",
              "2   1684659       None  {'address1': '1606 Ave Ponce De Leon Suite 110...   \n",
              "\n",
              "                                           ccContact  \n",
              "0  {'address1': 'KTVI', 'address2': '2250 Ball Dr...  \n",
              "1  {'address1': None, 'address2': None, 'city': N...  \n",
              "2  {'address1': None, 'address2': None, 'city': N...  \n",
              "\n",
              "[3 rows x 29 columns]"
            ],
            "text/html": [
              "\n",
              "  <div id=\"df-27f8f4e6-2133-464a-8df9-2030d8264638\">\n",
              "    <div class=\"colab-df-container\">\n",
              "      <div>\n",
              "<style scoped>\n",
              "    .dataframe tbody tr th:only-of-type {\n",
              "        vertical-align: middle;\n",
              "    }\n",
              "\n",
              "    .dataframe tbody tr th {\n",
              "        vertical-align: top;\n",
              "    }\n",
              "\n",
              "    .dataframe thead th {\n",
              "        text-align: right;\n",
              "    }\n",
              "</style>\n",
              "<table border=\"1\" class=\"dataframe\">\n",
              "  <thead>\n",
              "    <tr style=\"text-align: right;\">\n",
              "      <th></th>\n",
              "      <th>stationId</th>\n",
              "      <th>callSign</th>\n",
              "      <th>service</th>\n",
              "      <th>rfChannel</th>\n",
              "      <th>virtualChannel</th>\n",
              "      <th>licenseExpirationDate</th>\n",
              "      <th>statusDate</th>\n",
              "      <th>status</th>\n",
              "      <th>communityCity</th>\n",
              "      <th>communityState</th>\n",
              "      <th>...</th>\n",
              "      <th>partyZip2</th>\n",
              "      <th>partyState</th>\n",
              "      <th>partyPhone</th>\n",
              "      <th>nielsenDma</th>\n",
              "      <th>networkAfil</th>\n",
              "      <th>band</th>\n",
              "      <th>authAppId</th>\n",
              "      <th>postCardId</th>\n",
              "      <th>mainStudioContact</th>\n",
              "      <th>ccContact</th>\n",
              "    </tr>\n",
              "  </thead>\n",
              "  <tbody>\n",
              "    <tr>\n",
              "      <th>0</th>\n",
              "      <td>35693</td>\n",
              "      <td>KTVI</td>\n",
              "      <td>Digital TV</td>\n",
              "      <td>33</td>\n",
              "      <td>2</td>\n",
              "      <td>02/01/2022</td>\n",
              "      <td>06/16/2009</td>\n",
              "      <td>LICENSED</td>\n",
              "      <td>ST. LOUIS</td>\n",
              "      <td>MO</td>\n",
              "      <td>...</td>\n",
              "      <td>None</td>\n",
              "      <td>TX</td>\n",
              "      <td>(972)373-8800</td>\n",
              "      <td>ST. LOUIS</td>\n",
              "      <td>FOX</td>\n",
              "      <td>UHF</td>\n",
              "      <td>2035699</td>\n",
              "      <td>None</td>\n",
              "      <td>{'address1': '2250 Ball Drive', 'address2': No...</td>\n",
              "      <td>{'address1': 'KTVI', 'address2': '2250 Ball Dr...</td>\n",
              "    </tr>\n",
              "    <tr>\n",
              "      <th>1</th>\n",
              "      <td>52808</td>\n",
              "      <td>KRCK-FM</td>\n",
              "      <td>FM Station</td>\n",
              "      <td>249</td>\n",
              "      <td>None</td>\n",
              "      <td>12/01/2021</td>\n",
              "      <td>06/28/2002</td>\n",
              "      <td>LICENSED</td>\n",
              "      <td>MECCA</td>\n",
              "      <td>CA</td>\n",
              "      <td>...</td>\n",
              "      <td>None</td>\n",
              "      <td>WY</td>\n",
              "      <td>(410)799-1740</td>\n",
              "      <td>None</td>\n",
              "      <td>None</td>\n",
              "      <td>None</td>\n",
              "      <td>1737967</td>\n",
              "      <td>None</td>\n",
              "      <td>{'address1': None, 'address2': None, 'city': N...</td>\n",
              "      <td>{'address1': None, 'address2': None, 'city': N...</td>\n",
              "    </tr>\n",
              "    <tr>\n",
              "      <th>2</th>\n",
              "      <td>68833</td>\n",
              "      <td>WOYE</td>\n",
              "      <td>FM Station</td>\n",
              "      <td>247</td>\n",
              "      <td>None</td>\n",
              "      <td>02/01/2028</td>\n",
              "      <td>07/24/2003</td>\n",
              "      <td>LICENSED</td>\n",
              "      <td>RIO GRANDE</td>\n",
              "      <td>PR</td>\n",
              "      <td>...</td>\n",
              "      <td>None</td>\n",
              "      <td>PR</td>\n",
              "      <td>(787)722-0973</td>\n",
              "      <td>None</td>\n",
              "      <td>None</td>\n",
              "      <td>None</td>\n",
              "      <td>1684659</td>\n",
              "      <td>None</td>\n",
              "      <td>{'address1': '1606 Ave Ponce De Leon Suite 110...</td>\n",
              "      <td>{'address1': None, 'address2': None, 'city': N...</td>\n",
              "    </tr>\n",
              "  </tbody>\n",
              "</table>\n",
              "<p>3 rows × 29 columns</p>\n",
              "</div>\n",
              "      <button class=\"colab-df-convert\" onclick=\"convertToInteractive('df-27f8f4e6-2133-464a-8df9-2030d8264638')\"\n",
              "              title=\"Convert this dataframe to an interactive table.\"\n",
              "              style=\"display:none;\">\n",
              "        \n",
              "  <svg xmlns=\"http://www.w3.org/2000/svg\" height=\"24px\"viewBox=\"0 0 24 24\"\n",
              "       width=\"24px\">\n",
              "    <path d=\"M0 0h24v24H0V0z\" fill=\"none\"/>\n",
              "    <path d=\"M18.56 5.44l.94 2.06.94-2.06 2.06-.94-2.06-.94-.94-2.06-.94 2.06-2.06.94zm-11 1L8.5 8.5l.94-2.06 2.06-.94-2.06-.94L8.5 2.5l-.94 2.06-2.06.94zm10 10l.94 2.06.94-2.06 2.06-.94-2.06-.94-.94-2.06-.94 2.06-2.06.94z\"/><path d=\"M17.41 7.96l-1.37-1.37c-.4-.4-.92-.59-1.43-.59-.52 0-1.04.2-1.43.59L10.3 9.45l-7.72 7.72c-.78.78-.78 2.05 0 2.83L4 21.41c.39.39.9.59 1.41.59.51 0 1.02-.2 1.41-.59l7.78-7.78 2.81-2.81c.8-.78.8-2.07 0-2.86zM5.41 20L4 18.59l7.72-7.72 1.47 1.35L5.41 20z\"/>\n",
              "  </svg>\n",
              "      </button>\n",
              "      \n",
              "  <style>\n",
              "    .colab-df-container {\n",
              "      display:flex;\n",
              "      flex-wrap:wrap;\n",
              "      gap: 12px;\n",
              "    }\n",
              "\n",
              "    .colab-df-convert {\n",
              "      background-color: #E8F0FE;\n",
              "      border: none;\n",
              "      border-radius: 50%;\n",
              "      cursor: pointer;\n",
              "      display: none;\n",
              "      fill: #1967D2;\n",
              "      height: 32px;\n",
              "      padding: 0 0 0 0;\n",
              "      width: 32px;\n",
              "    }\n",
              "\n",
              "    .colab-df-convert:hover {\n",
              "      background-color: #E2EBFA;\n",
              "      box-shadow: 0px 1px 2px rgba(60, 64, 67, 0.3), 0px 1px 3px 1px rgba(60, 64, 67, 0.15);\n",
              "      fill: #174EA6;\n",
              "    }\n",
              "\n",
              "    [theme=dark] .colab-df-convert {\n",
              "      background-color: #3B4455;\n",
              "      fill: #D2E3FC;\n",
              "    }\n",
              "\n",
              "    [theme=dark] .colab-df-convert:hover {\n",
              "      background-color: #434B5C;\n",
              "      box-shadow: 0px 1px 3px 1px rgba(0, 0, 0, 0.15);\n",
              "      filter: drop-shadow(0px 1px 2px rgba(0, 0, 0, 0.3));\n",
              "      fill: #FFFFFF;\n",
              "    }\n",
              "  </style>\n",
              "\n",
              "      <script>\n",
              "        const buttonEl =\n",
              "          document.querySelector('#df-27f8f4e6-2133-464a-8df9-2030d8264638 button.colab-df-convert');\n",
              "        buttonEl.style.display =\n",
              "          google.colab.kernel.accessAllowed ? 'block' : 'none';\n",
              "\n",
              "        async function convertToInteractive(key) {\n",
              "          const element = document.querySelector('#df-27f8f4e6-2133-464a-8df9-2030d8264638');\n",
              "          const dataTable =\n",
              "            await google.colab.kernel.invokeFunction('convertToInteractive',\n",
              "                                                     [key], {});\n",
              "          if (!dataTable) return;\n",
              "\n",
              "          const docLinkHtml = 'Like what you see? Visit the ' +\n",
              "            '<a target=\"_blank\" href=https://colab.research.google.com/notebooks/data_table.ipynb>data table notebook</a>'\n",
              "            + ' to learn more about interactive tables.';\n",
              "          element.innerHTML = '';\n",
              "          dataTable['output_type'] = 'display_data';\n",
              "          await google.colab.output.renderOutput(dataTable, element);\n",
              "          const docLink = document.createElement('div');\n",
              "          docLink.innerHTML = docLinkHtml;\n",
              "          element.appendChild(docLink);\n",
              "        }\n",
              "      </script>\n",
              "    </div>\n",
              "  </div>\n",
              "  "
            ]
          },
          "metadata": {},
          "execution_count": 5
        }
      ]
    },
    {
      "cell_type": "code",
      "source": [
        "df.info()"
      ],
      "metadata": {
        "colab": {
          "base_uri": "https://localhost:8080/"
        },
        "id": "ohXLE3DuU_Ko",
        "outputId": "b183109d-87ef-4544-c030-5a4a78d26223"
      },
      "execution_count": null,
      "outputs": [
        {
          "output_type": "stream",
          "name": "stdout",
          "text": [
            "<class 'pandas.core.frame.DataFrame'>\n",
            "RangeIndex: 17910 entries, 0 to 17909\n",
            "Data columns (total 29 columns):\n",
            " #   Column                 Non-Null Count  Dtype \n",
            "---  ------                 --------------  ----- \n",
            " 0   stationId              17910 non-null  object\n",
            " 1   callSign               17910 non-null  object\n",
            " 2   service                17910 non-null  object\n",
            " 3   rfChannel              13210 non-null  object\n",
            " 4   virtualChannel         1903 non-null   object\n",
            " 5   licenseExpirationDate  17907 non-null  object\n",
            " 6   statusDate             9334 non-null   object\n",
            " 7   status                 17910 non-null  object\n",
            " 8   communityCity          17910 non-null  object\n",
            " 9   communityState         17910 non-null  object\n",
            " 10  facilityType           17910 non-null  object\n",
            " 11  frequency              17910 non-null  object\n",
            " 12  activeInd              17910 non-null  object\n",
            " 13  scannedLetterIds       917 non-null    object\n",
            " 14  partyName              17910 non-null  object\n",
            " 15  partyAddress1          17908 non-null  object\n",
            " 16  partyAddress2          5899 non-null   object\n",
            " 17  partyCity              17910 non-null  object\n",
            " 18  partyZip1              17910 non-null  object\n",
            " 19  partyZip2              2976 non-null   object\n",
            " 20  partyState             17910 non-null  object\n",
            " 21  partyPhone             14744 non-null  object\n",
            " 22  nielsenDma             1764 non-null   object\n",
            " 23  networkAfil            1770 non-null   object\n",
            " 24  band                   2187 non-null   object\n",
            " 25  authAppId              17790 non-null  object\n",
            " 26  postCardId             13091 non-null  object\n",
            " 27  mainStudioContact      17910 non-null  object\n",
            " 28  ccContact              17910 non-null  object\n",
            "dtypes: object(29)\n",
            "memory usage: 4.0+ MB\n"
          ]
        }
      ]
    },
    {
      "cell_type": "code",
      "source": [
        "df['activeInd'].value_counts()"
      ],
      "metadata": {
        "id": "RgJYEXHzVAep",
        "colab": {
          "base_uri": "https://localhost:8080/"
        },
        "outputId": "96322075-b8d2-40e3-df48-aff8d69b557f"
      },
      "execution_count": null,
      "outputs": [
        {
          "output_type": "execute_result",
          "data": {
            "text/plain": [
              "Y    17596\n",
              "N      314\n",
              "Name: activeInd, dtype: int64"
            ]
          },
          "metadata": {},
          "execution_count": 28
        }
      ]
    },
    {
      "cell_type": "code",
      "source": [
        "df.isnull().sum()"
      ],
      "metadata": {
        "colab": {
          "base_uri": "https://localhost:8080/"
        },
        "id": "iSD3MaIAyol2",
        "outputId": "971a62eb-20a3-4aae-8c0b-8bc4fc9471de"
      },
      "execution_count": null,
      "outputs": [
        {
          "output_type": "execute_result",
          "data": {
            "text/plain": [
              "stationId                    0\n",
              "callSign                     0\n",
              "service                      0\n",
              "rfChannel                 4700\n",
              "virtualChannel           16007\n",
              "licenseExpirationDate        3\n",
              "statusDate                8576\n",
              "status                       0\n",
              "communityCity                0\n",
              "communityState               0\n",
              "facilityType                 0\n",
              "frequency                    0\n",
              "activeInd                    0\n",
              "scannedLetterIds         16993\n",
              "partyName                    0\n",
              "partyAddress1                2\n",
              "partyAddress2            12011\n",
              "partyCity                    0\n",
              "partyZip1                    0\n",
              "partyZip2                14934\n",
              "partyState                   0\n",
              "partyPhone                3166\n",
              "nielsenDma               16146\n",
              "networkAfil              16140\n",
              "band                     15723\n",
              "authAppId                  120\n",
              "postCardId                4819\n",
              "mainStudioContact            0\n",
              "ccContact                    0\n",
              "dtype: int64"
            ]
          },
          "metadata": {},
          "execution_count": 25
        }
      ]
    },
    {
      "cell_type": "code",
      "source": [
        "# Modification 1 : removing potential unused feature and based on largest empty value\n",
        "df_mod_1 = df.drop(columns=['stationId','callSign','nielsenDma','networkAfil','band'],axis=1)"
      ],
      "metadata": {
        "id": "7xq93-2rwnKE"
      },
      "execution_count": null,
      "outputs": []
    },
    {
      "cell_type": "code",
      "source": [
        "df_mod_1.columns"
      ],
      "metadata": {
        "colab": {
          "base_uri": "https://localhost:8080/"
        },
        "id": "dDUs0h03xHIn",
        "outputId": "b9714b0e-351c-4c93-b8eb-db3b54176c70"
      },
      "execution_count": null,
      "outputs": [
        {
          "output_type": "execute_result",
          "data": {
            "text/plain": [
              "Index(['service', 'rfChannel', 'virtualChannel', 'licenseExpirationDate',\n",
              "       'statusDate', 'status', 'communityCity', 'communityState',\n",
              "       'facilityType', 'frequency', 'activeInd', 'scannedLetterIds',\n",
              "       'partyName', 'partyAddress1', 'partyAddress2', 'partyCity', 'partyZip1',\n",
              "       'partyZip2', 'partyState', 'partyPhone', 'authAppId', 'postCardId',\n",
              "       'mainStudioContact', 'ccContact'],\n",
              "      dtype='object')"
            ]
          },
          "metadata": {},
          "execution_count": 30
        }
      ]
    },
    {
      "cell_type": "code",
      "source": [
        "df_mod_1.isnull().sum()"
      ],
      "metadata": {
        "colab": {
          "base_uri": "https://localhost:8080/"
        },
        "id": "zmmEM1YuCShZ",
        "outputId": "e1cbba2f-51fa-43e3-df10-5d4fde768ea5"
      },
      "execution_count": null,
      "outputs": [
        {
          "output_type": "execute_result",
          "data": {
            "text/plain": [
              "service                      0\n",
              "rfChannel                    0\n",
              "virtualChannel               0\n",
              "licenseExpirationDate        3\n",
              "statusDate                8576\n",
              "status                       0\n",
              "communityCity                0\n",
              "communityState               0\n",
              "facilityType                 0\n",
              "frequency                    0\n",
              "activeInd                    0\n",
              "scannedLetterIds         16993\n",
              "partyName                    0\n",
              "partyAddress1                0\n",
              "partyAddress2                0\n",
              "partyCity                    0\n",
              "partyZip1                    0\n",
              "partyZip2                    0\n",
              "partyState                   0\n",
              "partyPhone                3166\n",
              "authAppId                  120\n",
              "postCardId                4819\n",
              "mainStudioContact            0\n",
              "ccContact                    0\n",
              "dtype: int64"
            ]
          },
          "metadata": {},
          "execution_count": 42
        }
      ]
    },
    {
      "cell_type": "code",
      "source": [
        "# Start filling missing data (string)\n",
        "df_mod_1['rfChannel'].fillna('0',inplace=True)\n",
        "df_mod_1['virtualChannel'].fillna('0',inplace=True)\n"
      ],
      "metadata": {
        "id": "0xlDLSFI7P_l"
      },
      "execution_count": null,
      "outputs": []
    },
    {
      "cell_type": "code",
      "source": [
        "df_mod_1.head(2)"
      ],
      "metadata": {
        "id": "0Ej9Z-rp8s-y",
        "colab": {
          "base_uri": "https://localhost:8080/",
          "height": 265
        },
        "outputId": "242bb0e7-d083-40b6-e269-1f7d5d5f4c7f"
      },
      "execution_count": null,
      "outputs": [
        {
          "output_type": "execute_result",
          "data": {
            "text/plain": [
              "      service rfChannel virtualChannel licenseExpirationDate  statusDate  \\\n",
              "0  Digital TV        33              2            02/01/2022  06/16/2009   \n",
              "1  FM Station       249              0            12/01/2021  06/28/2002   \n",
              "\n",
              "     status communityCity communityState facilityType frequency  ...  \\\n",
              "0  LICENSED     ST. LOUIS             MO          CDT     584.0  ...   \n",
              "1  LICENSED         MECCA             CA            H      97.7  ...   \n",
              "\n",
              "                              partyAddress2 partyCity partyZip1 partyZip2  \\\n",
              "0  545 E. JOHN CARPENTER FREEWAY, SUITE 700    IRVING         7      None   \n",
              "1                                      None      CODY         8      None   \n",
              "\n",
              "  partyState     partyPhone authAppId postCardId  \\\n",
              "0         TX  (972)373-8800   2035699       None   \n",
              "1         WY  (410)799-1740   1737967       None   \n",
              "\n",
              "                                   mainStudioContact  \\\n",
              "0  {'address1': '2250 Ball Drive', 'address2': No...   \n",
              "1  {'address1': None, 'address2': None, 'city': N...   \n",
              "\n",
              "                                           ccContact  \n",
              "0  {'address1': 'KTVI', 'address2': '2250 Ball Dr...  \n",
              "1  {'address1': None, 'address2': None, 'city': N...  \n",
              "\n",
              "[2 rows x 24 columns]"
            ],
            "text/html": [
              "\n",
              "  <div id=\"df-a79d95d5-2b12-46fb-9e52-520da32707b9\">\n",
              "    <div class=\"colab-df-container\">\n",
              "      <div>\n",
              "<style scoped>\n",
              "    .dataframe tbody tr th:only-of-type {\n",
              "        vertical-align: middle;\n",
              "    }\n",
              "\n",
              "    .dataframe tbody tr th {\n",
              "        vertical-align: top;\n",
              "    }\n",
              "\n",
              "    .dataframe thead th {\n",
              "        text-align: right;\n",
              "    }\n",
              "</style>\n",
              "<table border=\"1\" class=\"dataframe\">\n",
              "  <thead>\n",
              "    <tr style=\"text-align: right;\">\n",
              "      <th></th>\n",
              "      <th>service</th>\n",
              "      <th>rfChannel</th>\n",
              "      <th>virtualChannel</th>\n",
              "      <th>licenseExpirationDate</th>\n",
              "      <th>statusDate</th>\n",
              "      <th>status</th>\n",
              "      <th>communityCity</th>\n",
              "      <th>communityState</th>\n",
              "      <th>facilityType</th>\n",
              "      <th>frequency</th>\n",
              "      <th>...</th>\n",
              "      <th>partyAddress2</th>\n",
              "      <th>partyCity</th>\n",
              "      <th>partyZip1</th>\n",
              "      <th>partyZip2</th>\n",
              "      <th>partyState</th>\n",
              "      <th>partyPhone</th>\n",
              "      <th>authAppId</th>\n",
              "      <th>postCardId</th>\n",
              "      <th>mainStudioContact</th>\n",
              "      <th>ccContact</th>\n",
              "    </tr>\n",
              "  </thead>\n",
              "  <tbody>\n",
              "    <tr>\n",
              "      <th>0</th>\n",
              "      <td>Digital TV</td>\n",
              "      <td>33</td>\n",
              "      <td>2</td>\n",
              "      <td>02/01/2022</td>\n",
              "      <td>06/16/2009</td>\n",
              "      <td>LICENSED</td>\n",
              "      <td>ST. LOUIS</td>\n",
              "      <td>MO</td>\n",
              "      <td>CDT</td>\n",
              "      <td>584.0</td>\n",
              "      <td>...</td>\n",
              "      <td>545 E. JOHN CARPENTER FREEWAY, SUITE 700</td>\n",
              "      <td>IRVING</td>\n",
              "      <td>7</td>\n",
              "      <td>None</td>\n",
              "      <td>TX</td>\n",
              "      <td>(972)373-8800</td>\n",
              "      <td>2035699</td>\n",
              "      <td>None</td>\n",
              "      <td>{'address1': '2250 Ball Drive', 'address2': No...</td>\n",
              "      <td>{'address1': 'KTVI', 'address2': '2250 Ball Dr...</td>\n",
              "    </tr>\n",
              "    <tr>\n",
              "      <th>1</th>\n",
              "      <td>FM Station</td>\n",
              "      <td>249</td>\n",
              "      <td>0</td>\n",
              "      <td>12/01/2021</td>\n",
              "      <td>06/28/2002</td>\n",
              "      <td>LICENSED</td>\n",
              "      <td>MECCA</td>\n",
              "      <td>CA</td>\n",
              "      <td>H</td>\n",
              "      <td>97.7</td>\n",
              "      <td>...</td>\n",
              "      <td>None</td>\n",
              "      <td>CODY</td>\n",
              "      <td>8</td>\n",
              "      <td>None</td>\n",
              "      <td>WY</td>\n",
              "      <td>(410)799-1740</td>\n",
              "      <td>1737967</td>\n",
              "      <td>None</td>\n",
              "      <td>{'address1': None, 'address2': None, 'city': N...</td>\n",
              "      <td>{'address1': None, 'address2': None, 'city': N...</td>\n",
              "    </tr>\n",
              "  </tbody>\n",
              "</table>\n",
              "<p>2 rows × 24 columns</p>\n",
              "</div>\n",
              "      <button class=\"colab-df-convert\" onclick=\"convertToInteractive('df-a79d95d5-2b12-46fb-9e52-520da32707b9')\"\n",
              "              title=\"Convert this dataframe to an interactive table.\"\n",
              "              style=\"display:none;\">\n",
              "        \n",
              "  <svg xmlns=\"http://www.w3.org/2000/svg\" height=\"24px\"viewBox=\"0 0 24 24\"\n",
              "       width=\"24px\">\n",
              "    <path d=\"M0 0h24v24H0V0z\" fill=\"none\"/>\n",
              "    <path d=\"M18.56 5.44l.94 2.06.94-2.06 2.06-.94-2.06-.94-.94-2.06-.94 2.06-2.06.94zm-11 1L8.5 8.5l.94-2.06 2.06-.94-2.06-.94L8.5 2.5l-.94 2.06-2.06.94zm10 10l.94 2.06.94-2.06 2.06-.94-2.06-.94-.94-2.06-.94 2.06-2.06.94z\"/><path d=\"M17.41 7.96l-1.37-1.37c-.4-.4-.92-.59-1.43-.59-.52 0-1.04.2-1.43.59L10.3 9.45l-7.72 7.72c-.78.78-.78 2.05 0 2.83L4 21.41c.39.39.9.59 1.41.59.51 0 1.02-.2 1.41-.59l7.78-7.78 2.81-2.81c.8-.78.8-2.07 0-2.86zM5.41 20L4 18.59l7.72-7.72 1.47 1.35L5.41 20z\"/>\n",
              "  </svg>\n",
              "      </button>\n",
              "      \n",
              "  <style>\n",
              "    .colab-df-container {\n",
              "      display:flex;\n",
              "      flex-wrap:wrap;\n",
              "      gap: 12px;\n",
              "    }\n",
              "\n",
              "    .colab-df-convert {\n",
              "      background-color: #E8F0FE;\n",
              "      border: none;\n",
              "      border-radius: 50%;\n",
              "      cursor: pointer;\n",
              "      display: none;\n",
              "      fill: #1967D2;\n",
              "      height: 32px;\n",
              "      padding: 0 0 0 0;\n",
              "      width: 32px;\n",
              "    }\n",
              "\n",
              "    .colab-df-convert:hover {\n",
              "      background-color: #E2EBFA;\n",
              "      box-shadow: 0px 1px 2px rgba(60, 64, 67, 0.3), 0px 1px 3px 1px rgba(60, 64, 67, 0.15);\n",
              "      fill: #174EA6;\n",
              "    }\n",
              "\n",
              "    [theme=dark] .colab-df-convert {\n",
              "      background-color: #3B4455;\n",
              "      fill: #D2E3FC;\n",
              "    }\n",
              "\n",
              "    [theme=dark] .colab-df-convert:hover {\n",
              "      background-color: #434B5C;\n",
              "      box-shadow: 0px 1px 3px 1px rgba(0, 0, 0, 0.15);\n",
              "      filter: drop-shadow(0px 1px 2px rgba(0, 0, 0, 0.3));\n",
              "      fill: #FFFFFF;\n",
              "    }\n",
              "  </style>\n",
              "\n",
              "      <script>\n",
              "        const buttonEl =\n",
              "          document.querySelector('#df-a79d95d5-2b12-46fb-9e52-520da32707b9 button.colab-df-convert');\n",
              "        buttonEl.style.display =\n",
              "          google.colab.kernel.accessAllowed ? 'block' : 'none';\n",
              "\n",
              "        async function convertToInteractive(key) {\n",
              "          const element = document.querySelector('#df-a79d95d5-2b12-46fb-9e52-520da32707b9');\n",
              "          const dataTable =\n",
              "            await google.colab.kernel.invokeFunction('convertToInteractive',\n",
              "                                                     [key], {});\n",
              "          if (!dataTable) return;\n",
              "\n",
              "          const docLinkHtml = 'Like what you see? Visit the ' +\n",
              "            '<a target=\"_blank\" href=https://colab.research.google.com/notebooks/data_table.ipynb>data table notebook</a>'\n",
              "            + ' to learn more about interactive tables.';\n",
              "          element.innerHTML = '';\n",
              "          dataTable['output_type'] = 'display_data';\n",
              "          await google.colab.output.renderOutput(dataTable, element);\n",
              "          const docLink = document.createElement('div');\n",
              "          docLink.innerHTML = docLinkHtml;\n",
              "          element.appendChild(docLink);\n",
              "        }\n",
              "      </script>\n",
              "    </div>\n",
              "  </div>\n",
              "  "
            ]
          },
          "metadata": {},
          "execution_count": 36
        },
        {
          "output_type": "stream",
          "name": "stdout",
          "text": [
            "Warning: Total number of columns (24) exceeds max_columns (20) limiting to first (20) columns.\n"
          ]
        }
      ]
    },
    {
      "cell_type": "code",
      "source": [
        "df_mod_1['partyAddress1'].fillna('unknown_address',inplace=True)\n",
        "df_mod_1['partyAddress2'].fillna('unknown_address',inplace=True)\n",
        "df_mod_1['partyZip2'].fillna('0',inplace=True)"
      ],
      "metadata": {
        "id": "0tYi56K8_mhG"
      },
      "execution_count": null,
      "outputs": []
    },
    {
      "cell_type": "code",
      "source": [
        "#Merging some feature\n",
        "df_mod_1['party_Address'] = df_mod_1['partyAddress1'].str.cat(df_mod_1['partyAddress2'],sep=\",\")"
      ],
      "metadata": {
        "id": "bR1fDwZ5Aw13"
      },
      "execution_count": null,
      "outputs": []
    },
    {
      "cell_type": "code",
      "source": [
        "df_mod_1['party_Zip'] = df_mod_1['partyZip1'].str.cat(df_mod_1['partyZip2'],sep=\",\")"
      ],
      "metadata": {
        "id": "bf3KPhodFcVx"
      },
      "execution_count": null,
      "outputs": []
    },
    {
      "cell_type": "code",
      "source": [
        "df_mod_2 = df_mod_1.drop(columns=['partyAddress1','partyAddress2','partyZip1','partyZip2','scannedLetterIds'],axis=1)"
      ],
      "metadata": {
        "id": "uyKi-AWwGkym"
      },
      "execution_count": null,
      "outputs": []
    },
    {
      "cell_type": "code",
      "source": [
        "df_mod_2.head(2)"
      ],
      "metadata": {
        "colab": {
          "base_uri": "https://localhost:8080/",
          "height": 344
        },
        "id": "XQRwqAsTGS7-",
        "outputId": "4728aa0b-8b97-4eab-f4ab-e19871279132"
      },
      "execution_count": null,
      "outputs": [
        {
          "output_type": "execute_result",
          "data": {
            "text/plain": [
              "      service  rfChannel  virtualChannel licenseExpirationDate  statusDate  \\\n",
              "0  Digital TV         33               2            2022-02-01  2009-06-16   \n",
              "1  FM Station        249               0            2021-12-01  2002-06-28   \n",
              "\n",
              "     status communityCity communityState facilityType frequency  ...  \\\n",
              "0  LICENSED     ST. LOUIS             MO          CDT     584.0  ...   \n",
              "1  LICENSED         MECCA             CA            H      97.7  ...   \n",
              "\n",
              "  partyState     partyPhone authAppId postCardId  \\\n",
              "0         TX  (972)373-8800   2035699       None   \n",
              "1         WY  (410)799-1740   1737967       None   \n",
              "\n",
              "                                   mainStudioContact  \\\n",
              "0  {'address1': '2250 Ball Drive', 'address2': No...   \n",
              "1  {'address1': None, 'address2': None, 'city': N...   \n",
              "\n",
              "                                           ccContact  \\\n",
              "0  {'address1': 'KTVI', 'address2': '2250 Ball Dr...   \n",
              "1  {'address1': None, 'address2': None, 'city': N...   \n",
              "\n",
              "                                        cross_street  \\\n",
              "0  C/O NEXSTAR MEDIA GROUP, INC.,545 E. JOHN CARP...   \n",
              "1                199 CARTER VIEW DR.,unknown_address   \n",
              "\n",
              "                                       party_Address party_Zip    loadedAt  \n",
              "0  C/O NEXSTAR MEDIA GROUP, INC.,545 E. JOHN CARP...       7,0  2022-07-06  \n",
              "1                199 CARTER VIEW DR.,unknown_address       8,0  2022-07-06  \n",
              "\n",
              "[2 rows x 23 columns]"
            ],
            "text/html": [
              "\n",
              "  <div id=\"df-275914f1-9fbd-48a5-bbb1-2a770f74450f\">\n",
              "    <div class=\"colab-df-container\">\n",
              "      <div>\n",
              "<style scoped>\n",
              "    .dataframe tbody tr th:only-of-type {\n",
              "        vertical-align: middle;\n",
              "    }\n",
              "\n",
              "    .dataframe tbody tr th {\n",
              "        vertical-align: top;\n",
              "    }\n",
              "\n",
              "    .dataframe thead th {\n",
              "        text-align: right;\n",
              "    }\n",
              "</style>\n",
              "<table border=\"1\" class=\"dataframe\">\n",
              "  <thead>\n",
              "    <tr style=\"text-align: right;\">\n",
              "      <th></th>\n",
              "      <th>service</th>\n",
              "      <th>rfChannel</th>\n",
              "      <th>virtualChannel</th>\n",
              "      <th>licenseExpirationDate</th>\n",
              "      <th>statusDate</th>\n",
              "      <th>status</th>\n",
              "      <th>communityCity</th>\n",
              "      <th>communityState</th>\n",
              "      <th>facilityType</th>\n",
              "      <th>frequency</th>\n",
              "      <th>...</th>\n",
              "      <th>partyState</th>\n",
              "      <th>partyPhone</th>\n",
              "      <th>authAppId</th>\n",
              "      <th>postCardId</th>\n",
              "      <th>mainStudioContact</th>\n",
              "      <th>ccContact</th>\n",
              "      <th>cross_street</th>\n",
              "      <th>party_Address</th>\n",
              "      <th>party_Zip</th>\n",
              "      <th>loadedAt</th>\n",
              "    </tr>\n",
              "  </thead>\n",
              "  <tbody>\n",
              "    <tr>\n",
              "      <th>0</th>\n",
              "      <td>Digital TV</td>\n",
              "      <td>33</td>\n",
              "      <td>2</td>\n",
              "      <td>2022-02-01</td>\n",
              "      <td>2009-06-16</td>\n",
              "      <td>LICENSED</td>\n",
              "      <td>ST. LOUIS</td>\n",
              "      <td>MO</td>\n",
              "      <td>CDT</td>\n",
              "      <td>584.0</td>\n",
              "      <td>...</td>\n",
              "      <td>TX</td>\n",
              "      <td>(972)373-8800</td>\n",
              "      <td>2035699</td>\n",
              "      <td>None</td>\n",
              "      <td>{'address1': '2250 Ball Drive', 'address2': No...</td>\n",
              "      <td>{'address1': 'KTVI', 'address2': '2250 Ball Dr...</td>\n",
              "      <td>C/O NEXSTAR MEDIA GROUP, INC.,545 E. JOHN CARP...</td>\n",
              "      <td>C/O NEXSTAR MEDIA GROUP, INC.,545 E. JOHN CARP...</td>\n",
              "      <td>7,0</td>\n",
              "      <td>2022-07-06</td>\n",
              "    </tr>\n",
              "    <tr>\n",
              "      <th>1</th>\n",
              "      <td>FM Station</td>\n",
              "      <td>249</td>\n",
              "      <td>0</td>\n",
              "      <td>2021-12-01</td>\n",
              "      <td>2002-06-28</td>\n",
              "      <td>LICENSED</td>\n",
              "      <td>MECCA</td>\n",
              "      <td>CA</td>\n",
              "      <td>H</td>\n",
              "      <td>97.7</td>\n",
              "      <td>...</td>\n",
              "      <td>WY</td>\n",
              "      <td>(410)799-1740</td>\n",
              "      <td>1737967</td>\n",
              "      <td>None</td>\n",
              "      <td>{'address1': None, 'address2': None, 'city': N...</td>\n",
              "      <td>{'address1': None, 'address2': None, 'city': N...</td>\n",
              "      <td>199 CARTER VIEW DR.,unknown_address</td>\n",
              "      <td>199 CARTER VIEW DR.,unknown_address</td>\n",
              "      <td>8,0</td>\n",
              "      <td>2022-07-06</td>\n",
              "    </tr>\n",
              "  </tbody>\n",
              "</table>\n",
              "<p>2 rows × 23 columns</p>\n",
              "</div>\n",
              "      <button class=\"colab-df-convert\" onclick=\"convertToInteractive('df-275914f1-9fbd-48a5-bbb1-2a770f74450f')\"\n",
              "              title=\"Convert this dataframe to an interactive table.\"\n",
              "              style=\"display:none;\">\n",
              "        \n",
              "  <svg xmlns=\"http://www.w3.org/2000/svg\" height=\"24px\"viewBox=\"0 0 24 24\"\n",
              "       width=\"24px\">\n",
              "    <path d=\"M0 0h24v24H0V0z\" fill=\"none\"/>\n",
              "    <path d=\"M18.56 5.44l.94 2.06.94-2.06 2.06-.94-2.06-.94-.94-2.06-.94 2.06-2.06.94zm-11 1L8.5 8.5l.94-2.06 2.06-.94-2.06-.94L8.5 2.5l-.94 2.06-2.06.94zm10 10l.94 2.06.94-2.06 2.06-.94-2.06-.94-.94-2.06-.94 2.06-2.06.94z\"/><path d=\"M17.41 7.96l-1.37-1.37c-.4-.4-.92-.59-1.43-.59-.52 0-1.04.2-1.43.59L10.3 9.45l-7.72 7.72c-.78.78-.78 2.05 0 2.83L4 21.41c.39.39.9.59 1.41.59.51 0 1.02-.2 1.41-.59l7.78-7.78 2.81-2.81c.8-.78.8-2.07 0-2.86zM5.41 20L4 18.59l7.72-7.72 1.47 1.35L5.41 20z\"/>\n",
              "  </svg>\n",
              "      </button>\n",
              "      \n",
              "  <style>\n",
              "    .colab-df-container {\n",
              "      display:flex;\n",
              "      flex-wrap:wrap;\n",
              "      gap: 12px;\n",
              "    }\n",
              "\n",
              "    .colab-df-convert {\n",
              "      background-color: #E8F0FE;\n",
              "      border: none;\n",
              "      border-radius: 50%;\n",
              "      cursor: pointer;\n",
              "      display: none;\n",
              "      fill: #1967D2;\n",
              "      height: 32px;\n",
              "      padding: 0 0 0 0;\n",
              "      width: 32px;\n",
              "    }\n",
              "\n",
              "    .colab-df-convert:hover {\n",
              "      background-color: #E2EBFA;\n",
              "      box-shadow: 0px 1px 2px rgba(60, 64, 67, 0.3), 0px 1px 3px 1px rgba(60, 64, 67, 0.15);\n",
              "      fill: #174EA6;\n",
              "    }\n",
              "\n",
              "    [theme=dark] .colab-df-convert {\n",
              "      background-color: #3B4455;\n",
              "      fill: #D2E3FC;\n",
              "    }\n",
              "\n",
              "    [theme=dark] .colab-df-convert:hover {\n",
              "      background-color: #434B5C;\n",
              "      box-shadow: 0px 1px 3px 1px rgba(0, 0, 0, 0.15);\n",
              "      filter: drop-shadow(0px 1px 2px rgba(0, 0, 0, 0.3));\n",
              "      fill: #FFFFFF;\n",
              "    }\n",
              "  </style>\n",
              "\n",
              "      <script>\n",
              "        const buttonEl =\n",
              "          document.querySelector('#df-275914f1-9fbd-48a5-bbb1-2a770f74450f button.colab-df-convert');\n",
              "        buttonEl.style.display =\n",
              "          google.colab.kernel.accessAllowed ? 'block' : 'none';\n",
              "\n",
              "        async function convertToInteractive(key) {\n",
              "          const element = document.querySelector('#df-275914f1-9fbd-48a5-bbb1-2a770f74450f');\n",
              "          const dataTable =\n",
              "            await google.colab.kernel.invokeFunction('convertToInteractive',\n",
              "                                                     [key], {});\n",
              "          if (!dataTable) return;\n",
              "\n",
              "          const docLinkHtml = 'Like what you see? Visit the ' +\n",
              "            '<a target=\"_blank\" href=https://colab.research.google.com/notebooks/data_table.ipynb>data table notebook</a>'\n",
              "            + ' to learn more about interactive tables.';\n",
              "          element.innerHTML = '';\n",
              "          dataTable['output_type'] = 'display_data';\n",
              "          await google.colab.output.renderOutput(dataTable, element);\n",
              "          const docLink = document.createElement('div');\n",
              "          docLink.innerHTML = docLinkHtml;\n",
              "          element.appendChild(docLink);\n",
              "        }\n",
              "      </script>\n",
              "    </div>\n",
              "  </div>\n",
              "  "
            ]
          },
          "metadata": {},
          "execution_count": 85
        }
      ]
    },
    {
      "cell_type": "code",
      "source": [
        "df_mod_2['rfChannel'] = df_mod_2['rfChannel'].astype(int)\n",
        "df_mod_2['virtualChannel'] = df_mod_2['virtualChannel'].astype(int)"
      ],
      "metadata": {
        "id": "rC-7LBkiHdX9"
      },
      "execution_count": null,
      "outputs": []
    },
    {
      "cell_type": "code",
      "source": [
        "df_mod_2.info()"
      ],
      "metadata": {
        "id": "-UzgXnLjHfyw",
        "colab": {
          "base_uri": "https://localhost:8080/"
        },
        "outputId": "37b491d6-887b-4d42-bb54-39858b2807a4"
      },
      "execution_count": null,
      "outputs": [
        {
          "output_type": "stream",
          "name": "stdout",
          "text": [
            "<class 'pandas.core.frame.DataFrame'>\n",
            "RangeIndex: 17910 entries, 0 to 17909\n",
            "Data columns (total 23 columns):\n",
            " #   Column                 Non-Null Count  Dtype \n",
            "---  ------                 --------------  ----- \n",
            " 0   service                17910 non-null  object\n",
            " 1   rfChannel              17910 non-null  int64 \n",
            " 2   virtualChannel         17910 non-null  int64 \n",
            " 3   licenseExpirationDate  17907 non-null  object\n",
            " 4   statusDate             9334 non-null   object\n",
            " 5   status                 17910 non-null  object\n",
            " 6   communityCity          17910 non-null  object\n",
            " 7   communityState         17910 non-null  object\n",
            " 8   facilityType           17910 non-null  object\n",
            " 9   frequency              17910 non-null  object\n",
            " 10  activeInd              17910 non-null  object\n",
            " 11  partyName              17910 non-null  object\n",
            " 12  partyCity              17910 non-null  object\n",
            " 13  partyState             17910 non-null  object\n",
            " 14  partyPhone             14744 non-null  object\n",
            " 15  authAppId              17790 non-null  object\n",
            " 16  postCardId             13091 non-null  object\n",
            " 17  mainStudioContact      17910 non-null  object\n",
            " 18  ccContact              17910 non-null  object\n",
            " 19  cross_street           17910 non-null  object\n",
            " 20  party_Address          17910 non-null  object\n",
            " 21  party_Zip              17910 non-null  object\n",
            " 22  loadedAt               17910 non-null  object\n",
            "dtypes: int64(2), object(21)\n",
            "memory usage: 3.1+ MB\n"
          ]
        }
      ]
    },
    {
      "cell_type": "code",
      "source": [
        "df_mod_2['licenseExpirationDate'] = df_mod_2['licenseExpirationDate'].astype('datetime64[ns]')\n",
        "df_mod_2['statusDate'] = df_mod_2['statusDate'].astype('datetime64[ns]')"
      ],
      "metadata": {
        "id": "yypUAFwWKrfo"
      },
      "execution_count": null,
      "outputs": []
    },
    {
      "cell_type": "code",
      "source": [
        "df_mod_2['licenseExpirationDate'] = df_mod_2['licenseExpirationDate'].dt.date\n",
        "df_mod_2['statusDate'] = df_mod_2['statusDate'].dt.date"
      ],
      "metadata": {
        "id": "G0NiSpasMtIO"
      },
      "execution_count": null,
      "outputs": []
    },
    {
      "cell_type": "code",
      "source": [
        "df_mod_2['loadedAt'] = '07/06/2022'"
      ],
      "metadata": {
        "id": "A5AfAf3kLCLM"
      },
      "execution_count": null,
      "outputs": []
    },
    {
      "cell_type": "code",
      "source": [
        "df_mod_2['loadedAt'] = df_mod_2['loadedAt'].astype('datetime64[ns]')"
      ],
      "metadata": {
        "id": "YAiW1AmYLtbL"
      },
      "execution_count": null,
      "outputs": []
    },
    {
      "cell_type": "code",
      "source": [
        "df_mod_2['loadedAt'] = df_mod_2['loadedAt'].dt.date"
      ],
      "metadata": {
        "id": "nHsbAvRbMyj1"
      },
      "execution_count": null,
      "outputs": []
    },
    {
      "cell_type": "markdown",
      "source": [
        "# UPLOAD"
      ],
      "metadata": {
        "id": "WDW9e3K-QDdk"
      }
    },
    {
      "cell_type": "code",
      "source": [
        "df_mod_2.to_csv(\"./result_fcc.csv\")"
      ],
      "metadata": {
        "id": "mC8vhvGKSLaR"
      },
      "execution_count": null,
      "outputs": []
    },
    {
      "cell_type": "code",
      "source": [
        "#upload gbq\n",
        "import pandas_gbq\n",
        "\n",
        "table_id = \"mle_fazz.test_construct_fcc_political_ads_copy\"\n",
        "\n",
        "job_location = \"US\"\n",
        "\n",
        "pandas_gbq.to_gbq(df_mod_2,table_id,project_id,if_exists='replace',\n",
        "          location=job_location, progress_bar=True)"
      ],
      "metadata": {
        "id": "_AtvpW2IPTSZ",
        "colab": {
          "base_uri": "https://localhost:8080/"
        },
        "outputId": "da5ec7d4-7226-461f-ec72-0bf2de1e44d7"
      },
      "execution_count": null,
      "outputs": [
        {
          "output_type": "stream",
          "name": "stderr",
          "text": [
            "1it [00:13, 13.50s/it]\n"
          ]
        }
      ]
    },
    {
      "cell_type": "markdown",
      "source": [
        ""
      ],
      "metadata": {
        "id": "Rd2o9wPYPkcv"
      }
    }
  ]
}