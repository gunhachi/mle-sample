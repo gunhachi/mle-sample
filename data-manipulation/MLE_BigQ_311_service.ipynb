{
  "nbformat": 4,
  "nbformat_minor": 0,
  "metadata": {
    "colab": {
      "name": "MLE-Fazz_BigQ_311_service.ipynb",
      "provenance": [],
      "collapsed_sections": [],
      "toc_visible": true
    },
    "kernelspec": {
      "name": "python3",
      "display_name": "Python 3"
    },
    "language_info": {
      "name": "python"
    }
  },
  "cells": [
    {
      "cell_type": "markdown",
      "source": [
        "# MAIN PAGE\n",
        "This process took several context on data manipulation\n",
        "- Remove Irrelevant Values\n",
        "- Get Rid of Duplicate Values\n",
        "- Avoid Typos (and similar errors)\n",
        "- Convert Data Types\n",
        "- Take Care of Missing Values\n",
        "\n"
      ],
      "metadata": {
        "id": "qJ9-WcaFPl5x"
      }
    },
    {
      "cell_type": "code",
      "execution_count": null,
      "metadata": {
        "id": "Et7P8mWeUk7e",
        "colab": {
          "base_uri": "https://localhost:8080/"
        },
        "outputId": "aa1c0a1c-36f4-4c71-bd9f-f925060580ae"
      },
      "outputs": [
        {
          "output_type": "stream",
          "name": "stdout",
          "text": [
            "Authenticated\n"
          ]
        }
      ],
      "source": [
        "from google.colab import auth\n",
        "auth.authenticate_user()\n",
        "print('Authenticated')"
      ]
    },
    {
      "cell_type": "code",
      "source": [
        "project_id = 'platinum-goods-352515'"
      ],
      "metadata": {
        "id": "b4B9udS2U5uJ"
      },
      "execution_count": null,
      "outputs": []
    },
    {
      "cell_type": "code",
      "source": [
        "import pandas as pd"
      ],
      "metadata": {
        "id": "TDi24Fs4xXJM"
      },
      "execution_count": null,
      "outputs": []
    },
    {
      "cell_type": "code",
      "source": [
        "from google.cloud import bigquery\n",
        "\n",
        "client = bigquery.Client(project=project_id)\n",
        "\n",
        "row_count = client.query('''\n",
        "  SELECT \n",
        "    COUNT(*) as total\n",
        "  FROM `platinum-goods-352515.mle_fazz.311_service_copy_10k`''').to_dataframe().total[0]\n",
        "\n",
        "df = client.query('''\n",
        "  SELECT\n",
        "    *\n",
        "  FROM\n",
        "    `platinum-goods-352515.mle_fazz.311_service_copy_10k`\n",
        "''').to_dataframe()\n",
        "\n",
        "print('Full dataset has %d rows' % row_count)"
      ],
      "metadata": {
        "id": "ffXF91bgWHrl",
        "colab": {
          "base_uri": "https://localhost:8080/"
        },
        "outputId": "4af3442c-a84f-41d0-e842-10a082f4bd23"
      },
      "execution_count": null,
      "outputs": [
        {
          "output_type": "stream",
          "name": "stdout",
          "text": [
            "Full dataset has 10000 rows\n"
          ]
        }
      ]
    },
    {
      "cell_type": "code",
      "source": [
        "df.head(3)"
      ],
      "metadata": {
        "colab": {
          "base_uri": "https://localhost:8080/",
          "height": 289
        },
        "id": "yDW_6UZOyGc7",
        "outputId": "ef6b77a8-8440-4c1d-a225-df7eeafab214"
      },
      "execution_count": null,
      "outputs": [
        {
          "output_type": "execute_result",
          "data": {
            "text/plain": [
              "   unique_key              created_date               closed_date agency  \\\n",
              "0    50891081 2021-06-15 11:22:29+00:00 2021-06-17 08:04:37+00:00    DOT   \n",
              "1    51568466 2021-08-17 23:52:00+00:00 2021-08-20 07:52:00+00:00    DOT   \n",
              "2    51570967 2021-08-18 09:47:00+00:00 2021-08-17 00:55:00+00:00    DOT   \n",
              "\n",
              "                    agency_name          complaint_type  \\\n",
              "0  Department of Transportation       Highway Condition   \n",
              "1  Department of Transportation  Street Light Condition   \n",
              "2  Department of Transportation  Street Light Condition   \n",
              "\n",
              "                descriptor location_type incident_zip incident_address  ...  \\\n",
              "0        Pothole - Highway       Highway         None             None  ...   \n",
              "1  Street Light Dayburning          None         None             None  ...   \n",
              "2         Street Light Out          None         None             None  ...   \n",
              "\n",
              "  vehicle_type taxi_company_borough taxi_pickup_location bridge_highway_name  \\\n",
              "0         None                 None                 None     Harlem River Dr   \n",
              "1         None                 None                 None                None   \n",
              "2         None                 None                 None                None   \n",
              "\n",
              "  bridge_highway_direction road_ramp  \\\n",
              "0           South/Downtown      Ramp   \n",
              "1                     None      None   \n",
              "2                     None      None   \n",
              "\n",
              "                        bridge_highway_segment latitude longitude location  \n",
              "0  Entrance ramp from George Washington Bridge      NaN       NaN     None  \n",
              "1                                         None      NaN       NaN     None  \n",
              "2                                         None      NaN       NaN     None  \n",
              "\n",
              "[3 rows x 41 columns]"
            ],
            "text/html": [
              "\n",
              "  <div id=\"df-f07e94ab-1bf9-48df-abb3-de7cfd7b5a06\">\n",
              "    <div class=\"colab-df-container\">\n",
              "      <div>\n",
              "<style scoped>\n",
              "    .dataframe tbody tr th:only-of-type {\n",
              "        vertical-align: middle;\n",
              "    }\n",
              "\n",
              "    .dataframe tbody tr th {\n",
              "        vertical-align: top;\n",
              "    }\n",
              "\n",
              "    .dataframe thead th {\n",
              "        text-align: right;\n",
              "    }\n",
              "</style>\n",
              "<table border=\"1\" class=\"dataframe\">\n",
              "  <thead>\n",
              "    <tr style=\"text-align: right;\">\n",
              "      <th></th>\n",
              "      <th>unique_key</th>\n",
              "      <th>created_date</th>\n",
              "      <th>closed_date</th>\n",
              "      <th>agency</th>\n",
              "      <th>agency_name</th>\n",
              "      <th>complaint_type</th>\n",
              "      <th>descriptor</th>\n",
              "      <th>location_type</th>\n",
              "      <th>incident_zip</th>\n",
              "      <th>incident_address</th>\n",
              "      <th>...</th>\n",
              "      <th>vehicle_type</th>\n",
              "      <th>taxi_company_borough</th>\n",
              "      <th>taxi_pickup_location</th>\n",
              "      <th>bridge_highway_name</th>\n",
              "      <th>bridge_highway_direction</th>\n",
              "      <th>road_ramp</th>\n",
              "      <th>bridge_highway_segment</th>\n",
              "      <th>latitude</th>\n",
              "      <th>longitude</th>\n",
              "      <th>location</th>\n",
              "    </tr>\n",
              "  </thead>\n",
              "  <tbody>\n",
              "    <tr>\n",
              "      <th>0</th>\n",
              "      <td>50891081</td>\n",
              "      <td>2021-06-15 11:22:29+00:00</td>\n",
              "      <td>2021-06-17 08:04:37+00:00</td>\n",
              "      <td>DOT</td>\n",
              "      <td>Department of Transportation</td>\n",
              "      <td>Highway Condition</td>\n",
              "      <td>Pothole - Highway</td>\n",
              "      <td>Highway</td>\n",
              "      <td>None</td>\n",
              "      <td>None</td>\n",
              "      <td>...</td>\n",
              "      <td>None</td>\n",
              "      <td>None</td>\n",
              "      <td>None</td>\n",
              "      <td>Harlem River Dr</td>\n",
              "      <td>South/Downtown</td>\n",
              "      <td>Ramp</td>\n",
              "      <td>Entrance ramp from George Washington Bridge</td>\n",
              "      <td>NaN</td>\n",
              "      <td>NaN</td>\n",
              "      <td>None</td>\n",
              "    </tr>\n",
              "    <tr>\n",
              "      <th>1</th>\n",
              "      <td>51568466</td>\n",
              "      <td>2021-08-17 23:52:00+00:00</td>\n",
              "      <td>2021-08-20 07:52:00+00:00</td>\n",
              "      <td>DOT</td>\n",
              "      <td>Department of Transportation</td>\n",
              "      <td>Street Light Condition</td>\n",
              "      <td>Street Light Dayburning</td>\n",
              "      <td>None</td>\n",
              "      <td>None</td>\n",
              "      <td>None</td>\n",
              "      <td>...</td>\n",
              "      <td>None</td>\n",
              "      <td>None</td>\n",
              "      <td>None</td>\n",
              "      <td>None</td>\n",
              "      <td>None</td>\n",
              "      <td>None</td>\n",
              "      <td>None</td>\n",
              "      <td>NaN</td>\n",
              "      <td>NaN</td>\n",
              "      <td>None</td>\n",
              "    </tr>\n",
              "    <tr>\n",
              "      <th>2</th>\n",
              "      <td>51570967</td>\n",
              "      <td>2021-08-18 09:47:00+00:00</td>\n",
              "      <td>2021-08-17 00:55:00+00:00</td>\n",
              "      <td>DOT</td>\n",
              "      <td>Department of Transportation</td>\n",
              "      <td>Street Light Condition</td>\n",
              "      <td>Street Light Out</td>\n",
              "      <td>None</td>\n",
              "      <td>None</td>\n",
              "      <td>None</td>\n",
              "      <td>...</td>\n",
              "      <td>None</td>\n",
              "      <td>None</td>\n",
              "      <td>None</td>\n",
              "      <td>None</td>\n",
              "      <td>None</td>\n",
              "      <td>None</td>\n",
              "      <td>None</td>\n",
              "      <td>NaN</td>\n",
              "      <td>NaN</td>\n",
              "      <td>None</td>\n",
              "    </tr>\n",
              "  </tbody>\n",
              "</table>\n",
              "<p>3 rows × 41 columns</p>\n",
              "</div>\n",
              "      <button class=\"colab-df-convert\" onclick=\"convertToInteractive('df-f07e94ab-1bf9-48df-abb3-de7cfd7b5a06')\"\n",
              "              title=\"Convert this dataframe to an interactive table.\"\n",
              "              style=\"display:none;\">\n",
              "        \n",
              "  <svg xmlns=\"http://www.w3.org/2000/svg\" height=\"24px\"viewBox=\"0 0 24 24\"\n",
              "       width=\"24px\">\n",
              "    <path d=\"M0 0h24v24H0V0z\" fill=\"none\"/>\n",
              "    <path d=\"M18.56 5.44l.94 2.06.94-2.06 2.06-.94-2.06-.94-.94-2.06-.94 2.06-2.06.94zm-11 1L8.5 8.5l.94-2.06 2.06-.94-2.06-.94L8.5 2.5l-.94 2.06-2.06.94zm10 10l.94 2.06.94-2.06 2.06-.94-2.06-.94-.94-2.06-.94 2.06-2.06.94z\"/><path d=\"M17.41 7.96l-1.37-1.37c-.4-.4-.92-.59-1.43-.59-.52 0-1.04.2-1.43.59L10.3 9.45l-7.72 7.72c-.78.78-.78 2.05 0 2.83L4 21.41c.39.39.9.59 1.41.59.51 0 1.02-.2 1.41-.59l7.78-7.78 2.81-2.81c.8-.78.8-2.07 0-2.86zM5.41 20L4 18.59l7.72-7.72 1.47 1.35L5.41 20z\"/>\n",
              "  </svg>\n",
              "      </button>\n",
              "      \n",
              "  <style>\n",
              "    .colab-df-container {\n",
              "      display:flex;\n",
              "      flex-wrap:wrap;\n",
              "      gap: 12px;\n",
              "    }\n",
              "\n",
              "    .colab-df-convert {\n",
              "      background-color: #E8F0FE;\n",
              "      border: none;\n",
              "      border-radius: 50%;\n",
              "      cursor: pointer;\n",
              "      display: none;\n",
              "      fill: #1967D2;\n",
              "      height: 32px;\n",
              "      padding: 0 0 0 0;\n",
              "      width: 32px;\n",
              "    }\n",
              "\n",
              "    .colab-df-convert:hover {\n",
              "      background-color: #E2EBFA;\n",
              "      box-shadow: 0px 1px 2px rgba(60, 64, 67, 0.3), 0px 1px 3px 1px rgba(60, 64, 67, 0.15);\n",
              "      fill: #174EA6;\n",
              "    }\n",
              "\n",
              "    [theme=dark] .colab-df-convert {\n",
              "      background-color: #3B4455;\n",
              "      fill: #D2E3FC;\n",
              "    }\n",
              "\n",
              "    [theme=dark] .colab-df-convert:hover {\n",
              "      background-color: #434B5C;\n",
              "      box-shadow: 0px 1px 3px 1px rgba(0, 0, 0, 0.15);\n",
              "      filter: drop-shadow(0px 1px 2px rgba(0, 0, 0, 0.3));\n",
              "      fill: #FFFFFF;\n",
              "    }\n",
              "  </style>\n",
              "\n",
              "      <script>\n",
              "        const buttonEl =\n",
              "          document.querySelector('#df-f07e94ab-1bf9-48df-abb3-de7cfd7b5a06 button.colab-df-convert');\n",
              "        buttonEl.style.display =\n",
              "          google.colab.kernel.accessAllowed ? 'block' : 'none';\n",
              "\n",
              "        async function convertToInteractive(key) {\n",
              "          const element = document.querySelector('#df-f07e94ab-1bf9-48df-abb3-de7cfd7b5a06');\n",
              "          const dataTable =\n",
              "            await google.colab.kernel.invokeFunction('convertToInteractive',\n",
              "                                                     [key], {});\n",
              "          if (!dataTable) return;\n",
              "\n",
              "          const docLinkHtml = 'Like what you see? Visit the ' +\n",
              "            '<a target=\"_blank\" href=https://colab.research.google.com/notebooks/data_table.ipynb>data table notebook</a>'\n",
              "            + ' to learn more about interactive tables.';\n",
              "          element.innerHTML = '';\n",
              "          dataTable['output_type'] = 'display_data';\n",
              "          await google.colab.output.renderOutput(dataTable, element);\n",
              "          const docLink = document.createElement('div');\n",
              "          docLink.innerHTML = docLinkHtml;\n",
              "          element.appendChild(docLink);\n",
              "        }\n",
              "      </script>\n",
              "    </div>\n",
              "  </div>\n",
              "  "
            ]
          },
          "metadata": {},
          "execution_count": 60
        }
      ]
    },
    {
      "cell_type": "code",
      "source": [
        "df.info()"
      ],
      "metadata": {
        "colab": {
          "base_uri": "https://localhost:8080/"
        },
        "id": "ohXLE3DuU_Ko",
        "outputId": "f4275415-fe83-4e81-b51f-2195c98cc656"
      },
      "execution_count": null,
      "outputs": [
        {
          "output_type": "stream",
          "name": "stdout",
          "text": [
            "<class 'pandas.core.frame.DataFrame'>\n",
            "RangeIndex: 10000 entries, 0 to 9999\n",
            "Data columns (total 41 columns):\n",
            " #   Column                          Non-Null Count  Dtype              \n",
            "---  ------                          --------------  -----              \n",
            " 0   unique_key                      10000 non-null  int64              \n",
            " 1   created_date                    10000 non-null  datetime64[ns, UTC]\n",
            " 2   closed_date                     9925 non-null   datetime64[ns, UTC]\n",
            " 3   agency                          10000 non-null  object             \n",
            " 4   agency_name                     10000 non-null  object             \n",
            " 5   complaint_type                  10000 non-null  object             \n",
            " 6   descriptor                      9998 non-null   object             \n",
            " 7   location_type                   7757 non-null   object             \n",
            " 8   incident_zip                    9878 non-null   object             \n",
            " 9   incident_address                8766 non-null   object             \n",
            " 10  street_name                     8766 non-null   object             \n",
            " 11  cross_street_1                  9309 non-null   object             \n",
            " 12  cross_street_2                  9305 non-null   object             \n",
            " 13  intersection_street_1           1439 non-null   object             \n",
            " 14  intersection_street_2           1438 non-null   object             \n",
            " 15  address_type                    9793 non-null   object             \n",
            " 16  city                            9934 non-null   object             \n",
            " 17  landmark                        158 non-null    object             \n",
            " 18  facility_type                   9778 non-null   object             \n",
            " 19  status                          10000 non-null  object             \n",
            " 20  due_date                        62 non-null     datetime64[ns, UTC]\n",
            " 21  resolution_description          9974 non-null   object             \n",
            " 22  resolution_action_updated_date  9979 non-null   datetime64[ns, UTC]\n",
            " 23  community_board                 9998 non-null   object             \n",
            " 24  borough                         9998 non-null   object             \n",
            " 25  x_coordinate                    9958 non-null   float64            \n",
            " 26  y_coordinate                    9958 non-null   float64            \n",
            " 27  park_facility_name              10000 non-null  object             \n",
            " 28  park_borough                    9998 non-null   object             \n",
            " 29  bbl                             8446 non-null   float64            \n",
            " 30  open_data_channel_type          10000 non-null  object             \n",
            " 31  vehicle_type                    0 non-null      object             \n",
            " 32  taxi_company_borough            2 non-null      object             \n",
            " 33  taxi_pickup_location            21 non-null     object             \n",
            " 34  bridge_highway_name             23 non-null     object             \n",
            " 35  bridge_highway_direction        15 non-null     object             \n",
            " 36  road_ramp                       12 non-null     object             \n",
            " 37  bridge_highway_segment          23 non-null     object             \n",
            " 38  latitude                        9958 non-null   float64            \n",
            " 39  longitude                       9958 non-null   float64            \n",
            " 40  location                        9958 non-null   object             \n",
            "dtypes: datetime64[ns, UTC](4), float64(5), int64(1), object(31)\n",
            "memory usage: 3.1+ MB\n"
          ]
        }
      ]
    },
    {
      "cell_type": "code",
      "source": [
        "df.columns"
      ],
      "metadata": {
        "id": "RgJYEXHzVAep",
        "colab": {
          "base_uri": "https://localhost:8080/"
        },
        "outputId": "49a75844-da8d-4bbf-b940-d9cb610f23af"
      },
      "execution_count": null,
      "outputs": [
        {
          "output_type": "execute_result",
          "data": {
            "text/plain": [
              "Index(['unique_key', 'created_date', 'closed_date', 'agency', 'agency_name',\n",
              "       'complaint_type', 'descriptor', 'location_type', 'incident_zip',\n",
              "       'incident_address', 'street_name', 'cross_street_1', 'cross_street_2',\n",
              "       'intersection_street_1', 'intersection_street_2', 'address_type',\n",
              "       'city', 'landmark', 'facility_type', 'status', 'due_date',\n",
              "       'resolution_description', 'resolution_action_updated_date',\n",
              "       'community_board', 'borough', 'x_coordinate', 'y_coordinate',\n",
              "       'park_facility_name', 'park_borough', 'bbl', 'open_data_channel_type',\n",
              "       'vehicle_type', 'taxi_company_borough', 'taxi_pickup_location',\n",
              "       'bridge_highway_name', 'bridge_highway_direction', 'road_ramp',\n",
              "       'bridge_highway_segment', 'latitude', 'longitude', 'location'],\n",
              "      dtype='object')"
            ]
          },
          "metadata": {},
          "execution_count": 62
        }
      ]
    },
    {
      "cell_type": "code",
      "source": [
        "df.isnull().sum()"
      ],
      "metadata": {
        "colab": {
          "base_uri": "https://localhost:8080/"
        },
        "id": "iSD3MaIAyol2",
        "outputId": "b5b50a3a-dd5d-430c-a655-c45e0aef45fa"
      },
      "execution_count": null,
      "outputs": [
        {
          "output_type": "execute_result",
          "data": {
            "text/plain": [
              "unique_key                            0\n",
              "created_date                          0\n",
              "closed_date                          75\n",
              "agency                                0\n",
              "agency_name                           0\n",
              "complaint_type                        0\n",
              "descriptor                            2\n",
              "location_type                      2243\n",
              "incident_zip                        122\n",
              "incident_address                   1234\n",
              "street_name                        1234\n",
              "cross_street_1                      691\n",
              "cross_street_2                      695\n",
              "intersection_street_1              8561\n",
              "intersection_street_2              8562\n",
              "address_type                        207\n",
              "city                                 66\n",
              "landmark                           9842\n",
              "facility_type                       222\n",
              "status                                0\n",
              "due_date                           9938\n",
              "resolution_description               26\n",
              "resolution_action_updated_date       21\n",
              "community_board                       2\n",
              "borough                               2\n",
              "x_coordinate                         42\n",
              "y_coordinate                         42\n",
              "park_facility_name                    0\n",
              "park_borough                          2\n",
              "bbl                                1554\n",
              "open_data_channel_type                0\n",
              "vehicle_type                      10000\n",
              "taxi_company_borough               9998\n",
              "taxi_pickup_location               9979\n",
              "bridge_highway_name                9977\n",
              "bridge_highway_direction           9985\n",
              "road_ramp                          9988\n",
              "bridge_highway_segment             9977\n",
              "latitude                             42\n",
              "longitude                            42\n",
              "location                             42\n",
              "dtype: int64"
            ]
          },
          "metadata": {},
          "execution_count": 63
        }
      ]
    },
    {
      "cell_type": "code",
      "source": [
        "df_mod_1 = df.drop(columns=['unique_key'],axis=1)"
      ],
      "metadata": {
        "id": "7xq93-2rwnKE"
      },
      "execution_count": null,
      "outputs": []
    },
    {
      "cell_type": "code",
      "source": [
        "df_mod_1.columns"
      ],
      "metadata": {
        "colab": {
          "base_uri": "https://localhost:8080/"
        },
        "id": "dDUs0h03xHIn",
        "outputId": "2d7b911d-0b05-4c5b-ba12-16f7553b3f35"
      },
      "execution_count": null,
      "outputs": [
        {
          "output_type": "execute_result",
          "data": {
            "text/plain": [
              "Index(['created_date', 'closed_date', 'agency', 'agency_name',\n",
              "       'complaint_type', 'descriptor', 'location_type', 'incident_zip',\n",
              "       'incident_address', 'street_name', 'cross_street_1', 'cross_street_2',\n",
              "       'intersection_street_1', 'intersection_street_2', 'address_type',\n",
              "       'city', 'landmark', 'facility_type', 'status', 'due_date',\n",
              "       'resolution_description', 'resolution_action_updated_date',\n",
              "       'community_board', 'borough', 'x_coordinate', 'y_coordinate',\n",
              "       'park_facility_name', 'park_borough', 'bbl', 'open_data_channel_type',\n",
              "       'vehicle_type', 'taxi_company_borough', 'taxi_pickup_location',\n",
              "       'bridge_highway_name', 'bridge_highway_direction', 'road_ramp',\n",
              "       'bridge_highway_segment', 'latitude', 'longitude', 'location'],\n",
              "      dtype='object')"
            ]
          },
          "metadata": {},
          "execution_count": 65
        }
      ]
    },
    {
      "cell_type": "code",
      "source": [
        "pd.unique(df_mod_1['agency'])\n"
      ],
      "metadata": {
        "colab": {
          "base_uri": "https://localhost:8080/"
        },
        "id": "u1hOrj61xOMV",
        "outputId": "ab751f67-046c-4c84-d17d-4f74319558ca"
      },
      "execution_count": null,
      "outputs": [
        {
          "output_type": "execute_result",
          "data": {
            "text/plain": [
              "array(['DOT', 'DOITT', 'DSNY', 'DHS', 'DCA', 'TLC', 'DPR', 'NYPD', 'DEP',\n",
              "       'DOB', 'HPD', 'MAYORâ€™S OFFICE OF SPECIAL ENFORCEMENT', 'DOHMH',\n",
              "       'DFTA'], dtype=object)"
            ]
          },
          "metadata": {},
          "execution_count": 66
        }
      ]
    },
    {
      "cell_type": "code",
      "source": [
        "df_mod_1 = df_mod_1.drop(columns=['agency'],axis=1)"
      ],
      "metadata": {
        "id": "ZfVuo4OM2Mr0"
      },
      "execution_count": null,
      "outputs": []
    },
    {
      "cell_type": "code",
      "source": [
        "df_mod_2 = df_mod_1.drop(columns=['vehicle_type','taxi_company_borough', 'taxi_pickup_location',\n",
        "       'bridge_highway_name', 'bridge_highway_direction', 'road_ramp',\n",
        "       'bridge_highway_segment','due_date','landmark'],axis=1)"
      ],
      "metadata": {
        "id": "cohTRkf05GFK"
      },
      "execution_count": null,
      "outputs": []
    },
    {
      "cell_type": "code",
      "source": [
        "df_mod_2.columns"
      ],
      "metadata": {
        "colab": {
          "base_uri": "https://localhost:8080/"
        },
        "id": "0an_kEBH5wDv",
        "outputId": "385e97a7-7b59-4970-c2c0-5c2bb1b6f7a4"
      },
      "execution_count": null,
      "outputs": [
        {
          "output_type": "execute_result",
          "data": {
            "text/plain": [
              "Index(['created_date', 'closed_date', 'agency_name', 'complaint_type',\n",
              "       'descriptor', 'location_type', 'incident_zip', 'incident_address',\n",
              "       'street_name', 'cross_street_1', 'cross_street_2',\n",
              "       'intersection_street_1', 'intersection_street_2', 'address_type',\n",
              "       'city', 'facility_type', 'status', 'resolution_description',\n",
              "       'resolution_action_updated_date', 'community_board', 'borough',\n",
              "       'x_coordinate', 'y_coordinate', 'park_facility_name', 'park_borough',\n",
              "       'bbl', 'open_data_channel_type', 'latitude', 'longitude', 'location'],\n",
              "      dtype='object')"
            ]
          },
          "metadata": {},
          "execution_count": 69
        }
      ]
    },
    {
      "cell_type": "code",
      "source": [
        "df_mod_2.head(5)"
      ],
      "metadata": {
        "colab": {
          "base_uri": "https://localhost:8080/",
          "height": 421
        },
        "id": "lq8FOUji52mp",
        "outputId": "bb2b70a4-3bae-4fbe-9f27-618340b422d0"
      },
      "execution_count": null,
      "outputs": [
        {
          "output_type": "execute_result",
          "data": {
            "text/plain": [
              "               created_date               closed_date  \\\n",
              "0 2021-06-15 11:22:29+00:00 2021-06-17 08:04:37+00:00   \n",
              "1 2021-08-17 23:52:00+00:00 2021-08-20 07:52:00+00:00   \n",
              "2 2021-08-18 09:47:00+00:00 2021-08-17 00:55:00+00:00   \n",
              "3 2021-06-15 22:10:32+00:00 2021-06-21 10:48:04+00:00   \n",
              "4 2012-08-31 09:59:00+00:00 2012-08-31 09:59:00+00:00   \n",
              "\n",
              "                                         agency_name          complaint_type  \\\n",
              "0                       Department of Transportation       Highway Condition   \n",
              "1                       Department of Transportation  Street Light Condition   \n",
              "2                       Department of Transportation  Street Light Condition   \n",
              "3  Department of Information Technology and Telec...                 LinkNYC   \n",
              "4                       Department of Transportation  Street Light Condition   \n",
              "\n",
              "                descriptor location_type incident_zip incident_address  \\\n",
              "0        Pothole - Highway       Highway         None             None   \n",
              "1  Street Light Dayburning          None         None             None   \n",
              "2         Street Light Out          None         None             None   \n",
              "3        Damaged/Defective      Sidewalk         None             None   \n",
              "4         Street Light Out          None         None             None   \n",
              "\n",
              "  street_name cross_street_1  ...      borough x_coordinate y_coordinate  \\\n",
              "0        None           None  ...    MANHATTAN          NaN          NaN   \n",
              "1        None           None  ...  Unspecified          NaN          NaN   \n",
              "2        None           None  ...        BRONX          NaN          NaN   \n",
              "3        None           None  ...  Unspecified          NaN          NaN   \n",
              "4        None           None  ...       QUEENS    1042357.0     201699.0   \n",
              "\n",
              "  park_facility_name park_borough bbl open_data_channel_type   latitude  \\\n",
              "0        Unspecified    MANHATTAN NaN                  PHONE        NaN   \n",
              "1        Unspecified  Unspecified NaN                UNKNOWN        NaN   \n",
              "2        Unspecified        BRONX NaN                UNKNOWN        NaN   \n",
              "3        Unspecified  Unspecified NaN                 ONLINE        NaN   \n",
              "4        Unspecified       QUEENS NaN                UNKNOWN  40.720103   \n",
              "\n",
              "   longitude                                 location  \n",
              "0        NaN                                     None  \n",
              "1        NaN                                     None  \n",
              "2        NaN                                     None  \n",
              "3        NaN                                     None  \n",
              "4 -73.790376  (40.72010305201917, -73.79037648278602)  \n",
              "\n",
              "[5 rows x 30 columns]"
            ],
            "text/html": [
              "\n",
              "  <div id=\"df-ead07e59-0864-418d-9c0f-5b8121622f94\">\n",
              "    <div class=\"colab-df-container\">\n",
              "      <div>\n",
              "<style scoped>\n",
              "    .dataframe tbody tr th:only-of-type {\n",
              "        vertical-align: middle;\n",
              "    }\n",
              "\n",
              "    .dataframe tbody tr th {\n",
              "        vertical-align: top;\n",
              "    }\n",
              "\n",
              "    .dataframe thead th {\n",
              "        text-align: right;\n",
              "    }\n",
              "</style>\n",
              "<table border=\"1\" class=\"dataframe\">\n",
              "  <thead>\n",
              "    <tr style=\"text-align: right;\">\n",
              "      <th></th>\n",
              "      <th>created_date</th>\n",
              "      <th>closed_date</th>\n",
              "      <th>agency_name</th>\n",
              "      <th>complaint_type</th>\n",
              "      <th>descriptor</th>\n",
              "      <th>location_type</th>\n",
              "      <th>incident_zip</th>\n",
              "      <th>incident_address</th>\n",
              "      <th>street_name</th>\n",
              "      <th>cross_street_1</th>\n",
              "      <th>...</th>\n",
              "      <th>borough</th>\n",
              "      <th>x_coordinate</th>\n",
              "      <th>y_coordinate</th>\n",
              "      <th>park_facility_name</th>\n",
              "      <th>park_borough</th>\n",
              "      <th>bbl</th>\n",
              "      <th>open_data_channel_type</th>\n",
              "      <th>latitude</th>\n",
              "      <th>longitude</th>\n",
              "      <th>location</th>\n",
              "    </tr>\n",
              "  </thead>\n",
              "  <tbody>\n",
              "    <tr>\n",
              "      <th>0</th>\n",
              "      <td>2021-06-15 11:22:29+00:00</td>\n",
              "      <td>2021-06-17 08:04:37+00:00</td>\n",
              "      <td>Department of Transportation</td>\n",
              "      <td>Highway Condition</td>\n",
              "      <td>Pothole - Highway</td>\n",
              "      <td>Highway</td>\n",
              "      <td>None</td>\n",
              "      <td>None</td>\n",
              "      <td>None</td>\n",
              "      <td>None</td>\n",
              "      <td>...</td>\n",
              "      <td>MANHATTAN</td>\n",
              "      <td>NaN</td>\n",
              "      <td>NaN</td>\n",
              "      <td>Unspecified</td>\n",
              "      <td>MANHATTAN</td>\n",
              "      <td>NaN</td>\n",
              "      <td>PHONE</td>\n",
              "      <td>NaN</td>\n",
              "      <td>NaN</td>\n",
              "      <td>None</td>\n",
              "    </tr>\n",
              "    <tr>\n",
              "      <th>1</th>\n",
              "      <td>2021-08-17 23:52:00+00:00</td>\n",
              "      <td>2021-08-20 07:52:00+00:00</td>\n",
              "      <td>Department of Transportation</td>\n",
              "      <td>Street Light Condition</td>\n",
              "      <td>Street Light Dayburning</td>\n",
              "      <td>None</td>\n",
              "      <td>None</td>\n",
              "      <td>None</td>\n",
              "      <td>None</td>\n",
              "      <td>None</td>\n",
              "      <td>...</td>\n",
              "      <td>Unspecified</td>\n",
              "      <td>NaN</td>\n",
              "      <td>NaN</td>\n",
              "      <td>Unspecified</td>\n",
              "      <td>Unspecified</td>\n",
              "      <td>NaN</td>\n",
              "      <td>UNKNOWN</td>\n",
              "      <td>NaN</td>\n",
              "      <td>NaN</td>\n",
              "      <td>None</td>\n",
              "    </tr>\n",
              "    <tr>\n",
              "      <th>2</th>\n",
              "      <td>2021-08-18 09:47:00+00:00</td>\n",
              "      <td>2021-08-17 00:55:00+00:00</td>\n",
              "      <td>Department of Transportation</td>\n",
              "      <td>Street Light Condition</td>\n",
              "      <td>Street Light Out</td>\n",
              "      <td>None</td>\n",
              "      <td>None</td>\n",
              "      <td>None</td>\n",
              "      <td>None</td>\n",
              "      <td>None</td>\n",
              "      <td>...</td>\n",
              "      <td>BRONX</td>\n",
              "      <td>NaN</td>\n",
              "      <td>NaN</td>\n",
              "      <td>Unspecified</td>\n",
              "      <td>BRONX</td>\n",
              "      <td>NaN</td>\n",
              "      <td>UNKNOWN</td>\n",
              "      <td>NaN</td>\n",
              "      <td>NaN</td>\n",
              "      <td>None</td>\n",
              "    </tr>\n",
              "    <tr>\n",
              "      <th>3</th>\n",
              "      <td>2021-06-15 22:10:32+00:00</td>\n",
              "      <td>2021-06-21 10:48:04+00:00</td>\n",
              "      <td>Department of Information Technology and Telec...</td>\n",
              "      <td>LinkNYC</td>\n",
              "      <td>Damaged/Defective</td>\n",
              "      <td>Sidewalk</td>\n",
              "      <td>None</td>\n",
              "      <td>None</td>\n",
              "      <td>None</td>\n",
              "      <td>None</td>\n",
              "      <td>...</td>\n",
              "      <td>Unspecified</td>\n",
              "      <td>NaN</td>\n",
              "      <td>NaN</td>\n",
              "      <td>Unspecified</td>\n",
              "      <td>Unspecified</td>\n",
              "      <td>NaN</td>\n",
              "      <td>ONLINE</td>\n",
              "      <td>NaN</td>\n",
              "      <td>NaN</td>\n",
              "      <td>None</td>\n",
              "    </tr>\n",
              "    <tr>\n",
              "      <th>4</th>\n",
              "      <td>2012-08-31 09:59:00+00:00</td>\n",
              "      <td>2012-08-31 09:59:00+00:00</td>\n",
              "      <td>Department of Transportation</td>\n",
              "      <td>Street Light Condition</td>\n",
              "      <td>Street Light Out</td>\n",
              "      <td>None</td>\n",
              "      <td>None</td>\n",
              "      <td>None</td>\n",
              "      <td>None</td>\n",
              "      <td>None</td>\n",
              "      <td>...</td>\n",
              "      <td>QUEENS</td>\n",
              "      <td>1042357.0</td>\n",
              "      <td>201699.0</td>\n",
              "      <td>Unspecified</td>\n",
              "      <td>QUEENS</td>\n",
              "      <td>NaN</td>\n",
              "      <td>UNKNOWN</td>\n",
              "      <td>40.720103</td>\n",
              "      <td>-73.790376</td>\n",
              "      <td>(40.72010305201917, -73.79037648278602)</td>\n",
              "    </tr>\n",
              "  </tbody>\n",
              "</table>\n",
              "<p>5 rows × 30 columns</p>\n",
              "</div>\n",
              "      <button class=\"colab-df-convert\" onclick=\"convertToInteractive('df-ead07e59-0864-418d-9c0f-5b8121622f94')\"\n",
              "              title=\"Convert this dataframe to an interactive table.\"\n",
              "              style=\"display:none;\">\n",
              "        \n",
              "  <svg xmlns=\"http://www.w3.org/2000/svg\" height=\"24px\"viewBox=\"0 0 24 24\"\n",
              "       width=\"24px\">\n",
              "    <path d=\"M0 0h24v24H0V0z\" fill=\"none\"/>\n",
              "    <path d=\"M18.56 5.44l.94 2.06.94-2.06 2.06-.94-2.06-.94-.94-2.06-.94 2.06-2.06.94zm-11 1L8.5 8.5l.94-2.06 2.06-.94-2.06-.94L8.5 2.5l-.94 2.06-2.06.94zm10 10l.94 2.06.94-2.06 2.06-.94-2.06-.94-.94-2.06-.94 2.06-2.06.94z\"/><path d=\"M17.41 7.96l-1.37-1.37c-.4-.4-.92-.59-1.43-.59-.52 0-1.04.2-1.43.59L10.3 9.45l-7.72 7.72c-.78.78-.78 2.05 0 2.83L4 21.41c.39.39.9.59 1.41.59.51 0 1.02-.2 1.41-.59l7.78-7.78 2.81-2.81c.8-.78.8-2.07 0-2.86zM5.41 20L4 18.59l7.72-7.72 1.47 1.35L5.41 20z\"/>\n",
              "  </svg>\n",
              "      </button>\n",
              "      \n",
              "  <style>\n",
              "    .colab-df-container {\n",
              "      display:flex;\n",
              "      flex-wrap:wrap;\n",
              "      gap: 12px;\n",
              "    }\n",
              "\n",
              "    .colab-df-convert {\n",
              "      background-color: #E8F0FE;\n",
              "      border: none;\n",
              "      border-radius: 50%;\n",
              "      cursor: pointer;\n",
              "      display: none;\n",
              "      fill: #1967D2;\n",
              "      height: 32px;\n",
              "      padding: 0 0 0 0;\n",
              "      width: 32px;\n",
              "    }\n",
              "\n",
              "    .colab-df-convert:hover {\n",
              "      background-color: #E2EBFA;\n",
              "      box-shadow: 0px 1px 2px rgba(60, 64, 67, 0.3), 0px 1px 3px 1px rgba(60, 64, 67, 0.15);\n",
              "      fill: #174EA6;\n",
              "    }\n",
              "\n",
              "    [theme=dark] .colab-df-convert {\n",
              "      background-color: #3B4455;\n",
              "      fill: #D2E3FC;\n",
              "    }\n",
              "\n",
              "    [theme=dark] .colab-df-convert:hover {\n",
              "      background-color: #434B5C;\n",
              "      box-shadow: 0px 1px 3px 1px rgba(0, 0, 0, 0.15);\n",
              "      filter: drop-shadow(0px 1px 2px rgba(0, 0, 0, 0.3));\n",
              "      fill: #FFFFFF;\n",
              "    }\n",
              "  </style>\n",
              "\n",
              "      <script>\n",
              "        const buttonEl =\n",
              "          document.querySelector('#df-ead07e59-0864-418d-9c0f-5b8121622f94 button.colab-df-convert');\n",
              "        buttonEl.style.display =\n",
              "          google.colab.kernel.accessAllowed ? 'block' : 'none';\n",
              "\n",
              "        async function convertToInteractive(key) {\n",
              "          const element = document.querySelector('#df-ead07e59-0864-418d-9c0f-5b8121622f94');\n",
              "          const dataTable =\n",
              "            await google.colab.kernel.invokeFunction('convertToInteractive',\n",
              "                                                     [key], {});\n",
              "          if (!dataTable) return;\n",
              "\n",
              "          const docLinkHtml = 'Like what you see? Visit the ' +\n",
              "            '<a target=\"_blank\" href=https://colab.research.google.com/notebooks/data_table.ipynb>data table notebook</a>'\n",
              "            + ' to learn more about interactive tables.';\n",
              "          element.innerHTML = '';\n",
              "          dataTable['output_type'] = 'display_data';\n",
              "          await google.colab.output.renderOutput(dataTable, element);\n",
              "          const docLink = document.createElement('div');\n",
              "          docLink.innerHTML = docLinkHtml;\n",
              "          element.appendChild(docLink);\n",
              "        }\n",
              "      </script>\n",
              "    </div>\n",
              "  </div>\n",
              "  "
            ]
          },
          "metadata": {},
          "execution_count": 70
        }
      ]
    },
    {
      "cell_type": "code",
      "source": [
        "df_mod_2.isnull().sum()"
      ],
      "metadata": {
        "colab": {
          "base_uri": "https://localhost:8080/"
        },
        "id": "aMIA3buC9i27",
        "outputId": "fcb79d3c-5236-4c0f-f95d-55bdf14363ed"
      },
      "execution_count": null,
      "outputs": [
        {
          "output_type": "execute_result",
          "data": {
            "text/plain": [
              "created_date                         0\n",
              "closed_date                         75\n",
              "agency_name                          0\n",
              "complaint_type                       0\n",
              "descriptor                           2\n",
              "location_type                        0\n",
              "incident_zip                       122\n",
              "incident_address                  1234\n",
              "street_name                       1234\n",
              "cross_street_1                     691\n",
              "cross_street_2                     695\n",
              "intersection_street_1             8561\n",
              "intersection_street_2             8562\n",
              "address_type                       207\n",
              "city                                66\n",
              "facility_type                      222\n",
              "status                               0\n",
              "resolution_description              26\n",
              "resolution_action_updated_date      21\n",
              "community_board                      2\n",
              "borough                              2\n",
              "x_coordinate                        42\n",
              "y_coordinate                        42\n",
              "park_facility_name                   0\n",
              "park_borough                         2\n",
              "bbl                               1554\n",
              "open_data_channel_type               0\n",
              "latitude                            42\n",
              "longitude                           42\n",
              "location                            42\n",
              "dtype: int64"
            ]
          },
          "metadata": {},
          "execution_count": 72
        }
      ]
    },
    {
      "cell_type": "code",
      "source": [
        "# Start filling missing data (string)\n",
        "df_mod_2['location_type'].fillna('unknown_location',inplace=True)"
      ],
      "metadata": {
        "id": "0xlDLSFI7P_l"
      },
      "execution_count": null,
      "outputs": []
    },
    {
      "cell_type": "code",
      "source": [
        "df_mod_2['incident_zip'].fillna('unknown_zip',inplace=True)\n",
        "df_mod_2['incident_address'].fillna('unknown_incident_adress',inplace=True)\n",
        "df_mod_2['street_name'].fillna('unknown_street_name',inplace=True)\n",
        "df_mod_2['cross_street_1'].fillna('unknown_cross_street',inplace=True)\n",
        "df_mod_2['cross_street_2'].fillna('unknown_cross_street',inplace=True)\n",
        "df_mod_2['intersection_street_1'].fillna('unknown_intersection_1',inplace=True)\n",
        "df_mod_2['intersection_street_2'].fillna('unknown_intersection_2',inplace=True)\n",
        "df_mod_2['address_type'].fillna('unknown_address_type',inplace=True)\n",
        "df_mod_2['city'].fillna('unknown_city',inplace=True)\n",
        "df_mod_2['facility_type'].fillna('unknown_facility',inplace=True)\n"
      ],
      "metadata": {
        "id": "0Ej9Z-rp8s-y"
      },
      "execution_count": null,
      "outputs": []
    },
    {
      "cell_type": "code",
      "source": [
        "df_mod_2.isnull().sum()"
      ],
      "metadata": {
        "colab": {
          "base_uri": "https://localhost:8080/"
        },
        "id": "0tYi56K8_mhG",
        "outputId": "f34008eb-545c-4c5b-c6df-cef2918a12d1"
      },
      "execution_count": null,
      "outputs": [
        {
          "output_type": "execute_result",
          "data": {
            "text/plain": [
              "created_date                         0\n",
              "closed_date                         75\n",
              "agency_name                          0\n",
              "complaint_type                       0\n",
              "descriptor                           2\n",
              "location_type                        0\n",
              "incident_zip                         0\n",
              "incident_address                     0\n",
              "street_name                          0\n",
              "cross_street_1                       0\n",
              "cross_street_2                       0\n",
              "intersection_street_1                0\n",
              "intersection_street_2                0\n",
              "address_type                         0\n",
              "city                                 0\n",
              "facility_type                        0\n",
              "status                               0\n",
              "resolution_description              26\n",
              "resolution_action_updated_date      21\n",
              "community_board                      2\n",
              "borough                              2\n",
              "x_coordinate                        42\n",
              "y_coordinate                        42\n",
              "park_facility_name                   0\n",
              "park_borough                         2\n",
              "bbl                               1554\n",
              "open_data_channel_type               0\n",
              "latitude                            42\n",
              "longitude                           42\n",
              "location                            42\n",
              "dtype: int64"
            ]
          },
          "metadata": {},
          "execution_count": 76
        }
      ]
    },
    {
      "cell_type": "code",
      "source": [
        "# filling missing data (number)\n",
        "df_mod_2['bbl'].fillna(0,inplace=True)\n",
        "df_mod_2['latitude'].fillna(0,inplace=True)\n",
        "df_mod_2['longitude'].fillna(0,inplace=True)\n",
        "df_mod_2['x_coordinate'].fillna(0,inplace=True)\n",
        "df_mod_2['y_coordinate'].fillna(0,inplace=True)\n"
      ],
      "metadata": {
        "id": "4eYsiUKf_q_J"
      },
      "execution_count": null,
      "outputs": []
    },
    {
      "cell_type": "code",
      "source": [
        "df_mod_2.isnull().sum()"
      ],
      "metadata": {
        "colab": {
          "base_uri": "https://localhost:8080/"
        },
        "id": "ZkCCRwzpApC0",
        "outputId": "d80cfe2d-9709-47ce-fd85-fb19f643931d"
      },
      "execution_count": null,
      "outputs": [
        {
          "output_type": "execute_result",
          "data": {
            "text/plain": [
              "created_date                       0\n",
              "closed_date                       75\n",
              "agency_name                        0\n",
              "complaint_type                     0\n",
              "descriptor                         2\n",
              "location_type                      0\n",
              "incident_zip                       0\n",
              "incident_address                   0\n",
              "street_name                        0\n",
              "cross_street_1                     0\n",
              "cross_street_2                     0\n",
              "intersection_street_1              0\n",
              "intersection_street_2              0\n",
              "address_type                       0\n",
              "city                               0\n",
              "facility_type                      0\n",
              "status                             0\n",
              "resolution_description            26\n",
              "resolution_action_updated_date    21\n",
              "community_board                    2\n",
              "borough                            2\n",
              "x_coordinate                       0\n",
              "y_coordinate                       0\n",
              "park_facility_name                 0\n",
              "park_borough                       2\n",
              "bbl                                0\n",
              "open_data_channel_type             0\n",
              "latitude                           0\n",
              "longitude                          0\n",
              "location                          42\n",
              "dtype: int64"
            ]
          },
          "metadata": {},
          "execution_count": 80
        }
      ]
    },
    {
      "cell_type": "code",
      "source": [
        "df_mod_2['cross_street'] = df_mod_2['cross_street_1'].str.cat(df_mod_2['cross_street_2'],sep=\",\")"
      ],
      "metadata": {
        "id": "bR1fDwZ5Aw13"
      },
      "execution_count": null,
      "outputs": []
    },
    {
      "cell_type": "code",
      "source": [
        "df_mod_2['intersection_street'] = df_mod_2['intersection_street_1'].str.cat(df_mod_2['intersection_street_2'],sep=\",\")"
      ],
      "metadata": {
        "id": "us5NqI12EYss"
      },
      "execution_count": null,
      "outputs": []
    },
    {
      "cell_type": "code",
      "source": [
        "df_mod_2['xy_coordinate'] = df_mod_2['x_coordinate'].astype(str)+','+df_mod_2['y_coordinate'].astype(str)\n"
      ],
      "metadata": {
        "id": "1Cxk72g0E6Zz"
      },
      "execution_count": null,
      "outputs": []
    },
    {
      "cell_type": "code",
      "source": [
        "df_mod_2.info()"
      ],
      "metadata": {
        "colab": {
          "base_uri": "https://localhost:8080/"
        },
        "id": "IeoBZ0D-F1SO",
        "outputId": "f3c1260a-6c39-4082-dbe3-cf27c26dd798"
      },
      "execution_count": null,
      "outputs": [
        {
          "output_type": "stream",
          "name": "stdout",
          "text": [
            "<class 'pandas.core.frame.DataFrame'>\n",
            "RangeIndex: 10000 entries, 0 to 9999\n",
            "Data columns (total 33 columns):\n",
            " #   Column                          Non-Null Count  Dtype              \n",
            "---  ------                          --------------  -----              \n",
            " 0   created_date                    10000 non-null  datetime64[ns, UTC]\n",
            " 1   closed_date                     9925 non-null   datetime64[ns, UTC]\n",
            " 2   agency_name                     10000 non-null  object             \n",
            " 3   complaint_type                  10000 non-null  object             \n",
            " 4   descriptor                      9998 non-null   object             \n",
            " 5   location_type                   10000 non-null  object             \n",
            " 6   incident_zip                    10000 non-null  object             \n",
            " 7   incident_address                10000 non-null  object             \n",
            " 8   street_name                     10000 non-null  object             \n",
            " 9   cross_street_1                  10000 non-null  object             \n",
            " 10  cross_street_2                  10000 non-null  object             \n",
            " 11  intersection_street_1           10000 non-null  object             \n",
            " 12  intersection_street_2           10000 non-null  object             \n",
            " 13  address_type                    10000 non-null  object             \n",
            " 14  city                            10000 non-null  object             \n",
            " 15  facility_type                   10000 non-null  object             \n",
            " 16  status                          10000 non-null  object             \n",
            " 17  resolution_description          9974 non-null   object             \n",
            " 18  resolution_action_updated_date  9979 non-null   datetime64[ns, UTC]\n",
            " 19  community_board                 9998 non-null   object             \n",
            " 20  borough                         9998 non-null   object             \n",
            " 21  x_coordinate                    10000 non-null  float64            \n",
            " 22  y_coordinate                    10000 non-null  float64            \n",
            " 23  park_facility_name              10000 non-null  object             \n",
            " 24  park_borough                    9998 non-null   object             \n",
            " 25  bbl                             10000 non-null  float64            \n",
            " 26  open_data_channel_type          10000 non-null  object             \n",
            " 27  latitude                        10000 non-null  float64            \n",
            " 28  longitude                       10000 non-null  float64            \n",
            " 29  location                        9958 non-null   object             \n",
            " 30  cross_street                    10000 non-null  object             \n",
            " 31  intersection_street             10000 non-null  object             \n",
            " 32  xy_coordinate                   10000 non-null  object             \n",
            "dtypes: datetime64[ns, UTC](3), float64(5), object(25)\n",
            "memory usage: 2.5+ MB\n"
          ]
        }
      ]
    },
    {
      "cell_type": "code",
      "source": [
        "df_mod_3 = df_mod_2.drop(columns=['cross_street_1','cross_street_2','intersection_street_1','intersection_street_2','latitude','longitude','x_coordinate','y_coordinate'],axis=1)"
      ],
      "metadata": {
        "id": "uyKi-AWwGkym"
      },
      "execution_count": null,
      "outputs": []
    },
    {
      "cell_type": "code",
      "source": [
        "df_mod_3.iloc[:,0]"
      ],
      "metadata": {
        "colab": {
          "base_uri": "https://localhost:8080/"
        },
        "id": "rC-7LBkiHdX9",
        "outputId": "70dd4f15-2401-4aba-8b73-c0c00929a10c"
      },
      "execution_count": null,
      "outputs": [
        {
          "output_type": "execute_result",
          "data": {
            "text/plain": [
              "0      2021-06-15 11:22:29+00:00\n",
              "1      2021-08-17 23:52:00+00:00\n",
              "2      2021-08-18 09:47:00+00:00\n",
              "3      2021-06-15 22:10:32+00:00\n",
              "4      2012-08-31 09:59:00+00:00\n",
              "                  ...           \n",
              "9995   2012-11-03 00:00:00+00:00\n",
              "9996   2012-11-30 00:00:00+00:00\n",
              "9997   2012-12-01 00:00:00+00:00\n",
              "9998   2012-12-24 00:00:00+00:00\n",
              "9999   2012-12-24 00:00:00+00:00\n",
              "Name: created_date, Length: 10000, dtype: datetime64[ns, UTC]"
            ]
          },
          "metadata": {},
          "execution_count": 98
        }
      ]
    },
    {
      "cell_type": "code",
      "source": [
        "df_mod_3.rename(columns = {'created_date':'created_dt'},inplace=True)\n",
        "df_mod_3['created_date'] = df_mod_3['created_dt'].dt.date\n",
        "df_mod_3['created_time'] = df_mod_3['created_dt'].dt.time"
      ],
      "metadata": {
        "id": "-UzgXnLjHfyw"
      },
      "execution_count": null,
      "outputs": []
    },
    {
      "cell_type": "code",
      "source": [
        "df_mod_3.rename(columns = {'closed_date':'closed_dt'},inplace=True)\n",
        "df_mod_3['closed_date'] = df_mod_3['closed_dt'].dt.date\n",
        "df_mod_3['closed_time'] = df_mod_3['closed_dt'].dt.time"
      ],
      "metadata": {
        "id": "yypUAFwWKrfo"
      },
      "execution_count": null,
      "outputs": []
    },
    {
      "cell_type": "code",
      "source": [
        "df_mod_3 = df_mod_3.drop(columns=['created_dt','closed_dt'],axis=1)"
      ],
      "metadata": {
        "id": "VO-5FJRMLqF2"
      },
      "execution_count": null,
      "outputs": []
    },
    {
      "cell_type": "code",
      "source": [
        "df_mod_3.head(5)"
      ],
      "metadata": {
        "colab": {
          "base_uri": "https://localhost:8080/",
          "height": 421
        },
        "id": "DObpwNfiKmZG",
        "outputId": "63936fe2-b800-4d7c-e9c1-87d78f20e3ce"
      },
      "execution_count": null,
      "outputs": [
        {
          "output_type": "execute_result",
          "data": {
            "text/plain": [
              "                                         agency_name          complaint_type  \\\n",
              "0                       Department of Transportation       Highway Condition   \n",
              "1                       Department of Transportation  Street Light Condition   \n",
              "2                       Department of Transportation  Street Light Condition   \n",
              "3  Department of Information Technology and Telec...                 LinkNYC   \n",
              "4                       Department of Transportation  Street Light Condition   \n",
              "\n",
              "                descriptor    location_type incident_zip  \\\n",
              "0        Pothole - Highway          Highway  unknown_zip   \n",
              "1  Street Light Dayburning  unkown_location  unknown_zip   \n",
              "2         Street Light Out  unkown_location  unknown_zip   \n",
              "3        Damaged/Defective         Sidewalk  unknown_zip   \n",
              "4         Street Light Out  unkown_location  unknown_zip   \n",
              "\n",
              "          incident_address          street_name          address_type  \\\n",
              "0  unknown_incident_adress  unknown_street_name  unknown_address_type   \n",
              "1  unknown_incident_adress  unknown_street_name          INTERSECTION   \n",
              "2  unknown_incident_adress  unknown_street_name          INTERSECTION   \n",
              "3  unknown_incident_adress  unknown_street_name  unknown_address_type   \n",
              "4  unknown_incident_adress  unknown_street_name          INTERSECTION   \n",
              "\n",
              "           city     facility_type  ...  bbl open_data_channel_type  \\\n",
              "0  unknown_city  unknown_facility  ...  0.0                  PHONE   \n",
              "1  unknown_city  unknown_facility  ...  0.0                UNKNOWN   \n",
              "2  unknown_city  unknown_facility  ...  0.0                UNKNOWN   \n",
              "3  unknown_city  unknown_facility  ...  0.0                 ONLINE   \n",
              "4        QUEENS               N/A  ...  0.0                UNKNOWN   \n",
              "\n",
              "                                  location  \\\n",
              "0                                     None   \n",
              "1                                     None   \n",
              "2                                     None   \n",
              "3                                     None   \n",
              "4  (40.72010305201917, -73.79037648278602)   \n",
              "\n",
              "                                cross_street  \\\n",
              "0  unknown_cross_street,unknown_cross_street   \n",
              "1  unknown_cross_street,unknown_cross_street   \n",
              "2  unknown_cross_street,unknown_cross_street   \n",
              "3  unknown_cross_street,unknown_cross_street   \n",
              "4  unknown_cross_street,unknown_cross_street   \n",
              "\n",
              "                             intersection_street       xy_coordinate  \\\n",
              "0  unknown_intersection_1,unknown_intersection_2             0.0,0.0   \n",
              "1                     CLAY PITT RD,VETERANS RD E             0.0,0.0   \n",
              "2                        SCHIEFFELIN PL,229 ST E             0.0,0.0   \n",
              "3  unknown_intersection_1,unknown_intersection_2             0.0,0.0   \n",
              "4           UTOPIA PARKWAY,GRAND CENTRAL PARKWAY  1042357.0,201699.0   \n",
              "\n",
              "  created_date  created_time closed_date closed_time  \n",
              "0   2021-06-15      11:22:29  2021-06-17    08:04:37  \n",
              "1   2021-08-17      23:52:00  2021-08-20    07:52:00  \n",
              "2   2021-08-18      09:47:00  2021-08-17    00:55:00  \n",
              "3   2021-06-15      22:10:32  2021-06-21    10:48:04  \n",
              "4   2012-08-31      09:59:00  2012-08-31    09:59:00  \n",
              "\n",
              "[5 rows x 27 columns]"
            ],
            "text/html": [
              "\n",
              "  <div id=\"df-41e8ab89-ead3-418d-88e4-90c513f548fa\">\n",
              "    <div class=\"colab-df-container\">\n",
              "      <div>\n",
              "<style scoped>\n",
              "    .dataframe tbody tr th:only-of-type {\n",
              "        vertical-align: middle;\n",
              "    }\n",
              "\n",
              "    .dataframe tbody tr th {\n",
              "        vertical-align: top;\n",
              "    }\n",
              "\n",
              "    .dataframe thead th {\n",
              "        text-align: right;\n",
              "    }\n",
              "</style>\n",
              "<table border=\"1\" class=\"dataframe\">\n",
              "  <thead>\n",
              "    <tr style=\"text-align: right;\">\n",
              "      <th></th>\n",
              "      <th>agency_name</th>\n",
              "      <th>complaint_type</th>\n",
              "      <th>descriptor</th>\n",
              "      <th>location_type</th>\n",
              "      <th>incident_zip</th>\n",
              "      <th>incident_address</th>\n",
              "      <th>street_name</th>\n",
              "      <th>address_type</th>\n",
              "      <th>city</th>\n",
              "      <th>facility_type</th>\n",
              "      <th>...</th>\n",
              "      <th>bbl</th>\n",
              "      <th>open_data_channel_type</th>\n",
              "      <th>location</th>\n",
              "      <th>cross_street</th>\n",
              "      <th>intersection_street</th>\n",
              "      <th>xy_coordinate</th>\n",
              "      <th>created_date</th>\n",
              "      <th>created_time</th>\n",
              "      <th>closed_date</th>\n",
              "      <th>closed_time</th>\n",
              "    </tr>\n",
              "  </thead>\n",
              "  <tbody>\n",
              "    <tr>\n",
              "      <th>0</th>\n",
              "      <td>Department of Transportation</td>\n",
              "      <td>Highway Condition</td>\n",
              "      <td>Pothole - Highway</td>\n",
              "      <td>Highway</td>\n",
              "      <td>unknown_zip</td>\n",
              "      <td>unknown_incident_adress</td>\n",
              "      <td>unknown_street_name</td>\n",
              "      <td>unknown_address_type</td>\n",
              "      <td>unknown_city</td>\n",
              "      <td>unknown_facility</td>\n",
              "      <td>...</td>\n",
              "      <td>0.0</td>\n",
              "      <td>PHONE</td>\n",
              "      <td>None</td>\n",
              "      <td>unknown_cross_street,unknown_cross_street</td>\n",
              "      <td>unknown_intersection_1,unknown_intersection_2</td>\n",
              "      <td>0.0,0.0</td>\n",
              "      <td>2021-06-15</td>\n",
              "      <td>11:22:29</td>\n",
              "      <td>2021-06-17</td>\n",
              "      <td>08:04:37</td>\n",
              "    </tr>\n",
              "    <tr>\n",
              "      <th>1</th>\n",
              "      <td>Department of Transportation</td>\n",
              "      <td>Street Light Condition</td>\n",
              "      <td>Street Light Dayburning</td>\n",
              "      <td>unkown_location</td>\n",
              "      <td>unknown_zip</td>\n",
              "      <td>unknown_incident_adress</td>\n",
              "      <td>unknown_street_name</td>\n",
              "      <td>INTERSECTION</td>\n",
              "      <td>unknown_city</td>\n",
              "      <td>unknown_facility</td>\n",
              "      <td>...</td>\n",
              "      <td>0.0</td>\n",
              "      <td>UNKNOWN</td>\n",
              "      <td>None</td>\n",
              "      <td>unknown_cross_street,unknown_cross_street</td>\n",
              "      <td>CLAY PITT RD,VETERANS RD E</td>\n",
              "      <td>0.0,0.0</td>\n",
              "      <td>2021-08-17</td>\n",
              "      <td>23:52:00</td>\n",
              "      <td>2021-08-20</td>\n",
              "      <td>07:52:00</td>\n",
              "    </tr>\n",
              "    <tr>\n",
              "      <th>2</th>\n",
              "      <td>Department of Transportation</td>\n",
              "      <td>Street Light Condition</td>\n",
              "      <td>Street Light Out</td>\n",
              "      <td>unkown_location</td>\n",
              "      <td>unknown_zip</td>\n",
              "      <td>unknown_incident_adress</td>\n",
              "      <td>unknown_street_name</td>\n",
              "      <td>INTERSECTION</td>\n",
              "      <td>unknown_city</td>\n",
              "      <td>unknown_facility</td>\n",
              "      <td>...</td>\n",
              "      <td>0.0</td>\n",
              "      <td>UNKNOWN</td>\n",
              "      <td>None</td>\n",
              "      <td>unknown_cross_street,unknown_cross_street</td>\n",
              "      <td>SCHIEFFELIN PL,229 ST E</td>\n",
              "      <td>0.0,0.0</td>\n",
              "      <td>2021-08-18</td>\n",
              "      <td>09:47:00</td>\n",
              "      <td>2021-08-17</td>\n",
              "      <td>00:55:00</td>\n",
              "    </tr>\n",
              "    <tr>\n",
              "      <th>3</th>\n",
              "      <td>Department of Information Technology and Telec...</td>\n",
              "      <td>LinkNYC</td>\n",
              "      <td>Damaged/Defective</td>\n",
              "      <td>Sidewalk</td>\n",
              "      <td>unknown_zip</td>\n",
              "      <td>unknown_incident_adress</td>\n",
              "      <td>unknown_street_name</td>\n",
              "      <td>unknown_address_type</td>\n",
              "      <td>unknown_city</td>\n",
              "      <td>unknown_facility</td>\n",
              "      <td>...</td>\n",
              "      <td>0.0</td>\n",
              "      <td>ONLINE</td>\n",
              "      <td>None</td>\n",
              "      <td>unknown_cross_street,unknown_cross_street</td>\n",
              "      <td>unknown_intersection_1,unknown_intersection_2</td>\n",
              "      <td>0.0,0.0</td>\n",
              "      <td>2021-06-15</td>\n",
              "      <td>22:10:32</td>\n",
              "      <td>2021-06-21</td>\n",
              "      <td>10:48:04</td>\n",
              "    </tr>\n",
              "    <tr>\n",
              "      <th>4</th>\n",
              "      <td>Department of Transportation</td>\n",
              "      <td>Street Light Condition</td>\n",
              "      <td>Street Light Out</td>\n",
              "      <td>unkown_location</td>\n",
              "      <td>unknown_zip</td>\n",
              "      <td>unknown_incident_adress</td>\n",
              "      <td>unknown_street_name</td>\n",
              "      <td>INTERSECTION</td>\n",
              "      <td>QUEENS</td>\n",
              "      <td>N/A</td>\n",
              "      <td>...</td>\n",
              "      <td>0.0</td>\n",
              "      <td>UNKNOWN</td>\n",
              "      <td>(40.72010305201917, -73.79037648278602)</td>\n",
              "      <td>unknown_cross_street,unknown_cross_street</td>\n",
              "      <td>UTOPIA PARKWAY,GRAND CENTRAL PARKWAY</td>\n",
              "      <td>1042357.0,201699.0</td>\n",
              "      <td>2012-08-31</td>\n",
              "      <td>09:59:00</td>\n",
              "      <td>2012-08-31</td>\n",
              "      <td>09:59:00</td>\n",
              "    </tr>\n",
              "  </tbody>\n",
              "</table>\n",
              "<p>5 rows × 27 columns</p>\n",
              "</div>\n",
              "      <button class=\"colab-df-convert\" onclick=\"convertToInteractive('df-41e8ab89-ead3-418d-88e4-90c513f548fa')\"\n",
              "              title=\"Convert this dataframe to an interactive table.\"\n",
              "              style=\"display:none;\">\n",
              "        \n",
              "  <svg xmlns=\"http://www.w3.org/2000/svg\" height=\"24px\"viewBox=\"0 0 24 24\"\n",
              "       width=\"24px\">\n",
              "    <path d=\"M0 0h24v24H0V0z\" fill=\"none\"/>\n",
              "    <path d=\"M18.56 5.44l.94 2.06.94-2.06 2.06-.94-2.06-.94-.94-2.06-.94 2.06-2.06.94zm-11 1L8.5 8.5l.94-2.06 2.06-.94-2.06-.94L8.5 2.5l-.94 2.06-2.06.94zm10 10l.94 2.06.94-2.06 2.06-.94-2.06-.94-.94-2.06-.94 2.06-2.06.94z\"/><path d=\"M17.41 7.96l-1.37-1.37c-.4-.4-.92-.59-1.43-.59-.52 0-1.04.2-1.43.59L10.3 9.45l-7.72 7.72c-.78.78-.78 2.05 0 2.83L4 21.41c.39.39.9.59 1.41.59.51 0 1.02-.2 1.41-.59l7.78-7.78 2.81-2.81c.8-.78.8-2.07 0-2.86zM5.41 20L4 18.59l7.72-7.72 1.47 1.35L5.41 20z\"/>\n",
              "  </svg>\n",
              "      </button>\n",
              "      \n",
              "  <style>\n",
              "    .colab-df-container {\n",
              "      display:flex;\n",
              "      flex-wrap:wrap;\n",
              "      gap: 12px;\n",
              "    }\n",
              "\n",
              "    .colab-df-convert {\n",
              "      background-color: #E8F0FE;\n",
              "      border: none;\n",
              "      border-radius: 50%;\n",
              "      cursor: pointer;\n",
              "      display: none;\n",
              "      fill: #1967D2;\n",
              "      height: 32px;\n",
              "      padding: 0 0 0 0;\n",
              "      width: 32px;\n",
              "    }\n",
              "\n",
              "    .colab-df-convert:hover {\n",
              "      background-color: #E2EBFA;\n",
              "      box-shadow: 0px 1px 2px rgba(60, 64, 67, 0.3), 0px 1px 3px 1px rgba(60, 64, 67, 0.15);\n",
              "      fill: #174EA6;\n",
              "    }\n",
              "\n",
              "    [theme=dark] .colab-df-convert {\n",
              "      background-color: #3B4455;\n",
              "      fill: #D2E3FC;\n",
              "    }\n",
              "\n",
              "    [theme=dark] .colab-df-convert:hover {\n",
              "      background-color: #434B5C;\n",
              "      box-shadow: 0px 1px 3px 1px rgba(0, 0, 0, 0.15);\n",
              "      filter: drop-shadow(0px 1px 2px rgba(0, 0, 0, 0.3));\n",
              "      fill: #FFFFFF;\n",
              "    }\n",
              "  </style>\n",
              "\n",
              "      <script>\n",
              "        const buttonEl =\n",
              "          document.querySelector('#df-41e8ab89-ead3-418d-88e4-90c513f548fa button.colab-df-convert');\n",
              "        buttonEl.style.display =\n",
              "          google.colab.kernel.accessAllowed ? 'block' : 'none';\n",
              "\n",
              "        async function convertToInteractive(key) {\n",
              "          const element = document.querySelector('#df-41e8ab89-ead3-418d-88e4-90c513f548fa');\n",
              "          const dataTable =\n",
              "            await google.colab.kernel.invokeFunction('convertToInteractive',\n",
              "                                                     [key], {});\n",
              "          if (!dataTable) return;\n",
              "\n",
              "          const docLinkHtml = 'Like what you see? Visit the ' +\n",
              "            '<a target=\"_blank\" href=https://colab.research.google.com/notebooks/data_table.ipynb>data table notebook</a>'\n",
              "            + ' to learn more about interactive tables.';\n",
              "          element.innerHTML = '';\n",
              "          dataTable['output_type'] = 'display_data';\n",
              "          await google.colab.output.renderOutput(dataTable, element);\n",
              "          const docLink = document.createElement('div');\n",
              "          docLink.innerHTML = docLinkHtml;\n",
              "          element.appendChild(docLink);\n",
              "        }\n",
              "      </script>\n",
              "    </div>\n",
              "  </div>\n",
              "  "
            ]
          },
          "metadata": {},
          "execution_count": 114
        }
      ]
    },
    {
      "cell_type": "code",
      "source": [
        "df_mod_3.info()"
      ],
      "metadata": {
        "colab": {
          "base_uri": "https://localhost:8080/"
        },
        "id": "lB1kqpVkMElb",
        "outputId": "e1a89ff1-2d2b-4af1-be84-2da3535ef293"
      },
      "execution_count": null,
      "outputs": [
        {
          "output_type": "stream",
          "name": "stdout",
          "text": [
            "<class 'pandas.core.frame.DataFrame'>\n",
            "RangeIndex: 10000 entries, 0 to 9999\n",
            "Data columns (total 27 columns):\n",
            " #   Column                          Non-Null Count  Dtype              \n",
            "---  ------                          --------------  -----              \n",
            " 0   agency_name                     10000 non-null  object             \n",
            " 1   complaint_type                  10000 non-null  object             \n",
            " 2   descriptor                      9998 non-null   object             \n",
            " 3   location_type                   10000 non-null  object             \n",
            " 4   incident_zip                    10000 non-null  object             \n",
            " 5   incident_address                10000 non-null  object             \n",
            " 6   street_name                     10000 non-null  object             \n",
            " 7   address_type                    10000 non-null  object             \n",
            " 8   city                            10000 non-null  object             \n",
            " 9   facility_type                   10000 non-null  object             \n",
            " 10  status                          10000 non-null  object             \n",
            " 11  resolution_description          9974 non-null   object             \n",
            " 12  resolution_action_updated_date  9979 non-null   datetime64[ns, UTC]\n",
            " 13  community_board                 9998 non-null   object             \n",
            " 14  borough                         9998 non-null   object             \n",
            " 15  park_facility_name              10000 non-null  object             \n",
            " 16  park_borough                    9998 non-null   object             \n",
            " 17  bbl                             10000 non-null  float64            \n",
            " 18  open_data_channel_type          10000 non-null  object             \n",
            " 19  location                        9958 non-null   object             \n",
            " 20  cross_street                    10000 non-null  object             \n",
            " 21  intersection_street             10000 non-null  object             \n",
            " 22  xy_coordinate                   10000 non-null  object             \n",
            " 23  created_date                    10000 non-null  object             \n",
            " 24  created_time                    10000 non-null  object             \n",
            " 25  closed_date                     9925 non-null   object             \n",
            " 26  closed_time                     9925 non-null   object             \n",
            "dtypes: datetime64[ns, UTC](1), float64(1), object(25)\n",
            "memory usage: 2.1+ MB\n"
          ]
        }
      ]
    },
    {
      "cell_type": "markdown",
      "source": [
        "# UPLOAD"
      ],
      "metadata": {
        "id": "WDW9e3K-QDdk"
      }
    },
    {
      "cell_type": "code",
      "source": [
        "df_mod_3.to_csv(\"./result.csv\")"
      ],
      "metadata": {
        "id": "mC8vhvGKSLaR"
      },
      "execution_count": null,
      "outputs": []
    },
    {
      "cell_type": "code",
      "source": [
        "df = pd.read_csv('./result.csv')"
      ],
      "metadata": {
        "id": "EdclmhUs7cSW"
      },
      "execution_count": null,
      "outputs": []
    },
    {
      "cell_type": "code",
      "source": [
        "df = df.iloc[:,1:]"
      ],
      "metadata": {
        "id": "9fMk5lKD9OjM"
      },
      "execution_count": null,
      "outputs": []
    },
    {
      "cell_type": "code",
      "source": [
        "df.head(3)"
      ],
      "metadata": {
        "colab": {
          "base_uri": "https://localhost:8080/",
          "height": 289
        },
        "id": "SWEJoFMx9T3t",
        "outputId": "b09db071-718a-4dc1-a666-b8288c7aa57e"
      },
      "execution_count": null,
      "outputs": [
        {
          "output_type": "execute_result",
          "data": {
            "text/plain": [
              "                    agency_name          complaint_type  \\\n",
              "0  Department of Transportation       Highway Condition   \n",
              "1  Department of Transportation  Street Light Condition   \n",
              "2  Department of Transportation  Street Light Condition   \n",
              "\n",
              "                descriptor    location_type incident_zip  \\\n",
              "0        Pothole - Highway          Highway  unknown_zip   \n",
              "1  Street Light Dayburning  unkown_location  unknown_zip   \n",
              "2         Street Light Out  unkown_location  unknown_zip   \n",
              "\n",
              "          incident_address          street_name          address_type  \\\n",
              "0  unknown_incident_adress  unknown_street_name  unknown_address_type   \n",
              "1  unknown_incident_adress  unknown_street_name          INTERSECTION   \n",
              "2  unknown_incident_adress  unknown_street_name          INTERSECTION   \n",
              "\n",
              "           city     facility_type  ...  bbl open_data_channel_type location  \\\n",
              "0  unknown_city  unknown_facility  ...  0.0                  PHONE      NaN   \n",
              "1  unknown_city  unknown_facility  ...  0.0                UNKNOWN      NaN   \n",
              "2  unknown_city  unknown_facility  ...  0.0                UNKNOWN      NaN   \n",
              "\n",
              "                                cross_street  \\\n",
              "0  unknown_cross_street,unknown_cross_street   \n",
              "1  unknown_cross_street,unknown_cross_street   \n",
              "2  unknown_cross_street,unknown_cross_street   \n",
              "\n",
              "                             intersection_street xy_coordinate created_date  \\\n",
              "0  unknown_intersection_1,unknown_intersection_2       0.0,0.0   2021-06-15   \n",
              "1                     CLAY PITT RD,VETERANS RD E       0.0,0.0   2021-08-17   \n",
              "2                        SCHIEFFELIN PL,229 ST E       0.0,0.0   2021-08-18   \n",
              "\n",
              "   created_time closed_date closed_time  \n",
              "0      11:22:29  2021-06-17    08:04:37  \n",
              "1      23:52:00  2021-08-20    07:52:00  \n",
              "2      09:47:00  2021-08-17    00:55:00  \n",
              "\n",
              "[3 rows x 27 columns]"
            ],
            "text/html": [
              "\n",
              "  <div id=\"df-fdd868ae-ce35-4018-9a27-e96dce668c64\">\n",
              "    <div class=\"colab-df-container\">\n",
              "      <div>\n",
              "<style scoped>\n",
              "    .dataframe tbody tr th:only-of-type {\n",
              "        vertical-align: middle;\n",
              "    }\n",
              "\n",
              "    .dataframe tbody tr th {\n",
              "        vertical-align: top;\n",
              "    }\n",
              "\n",
              "    .dataframe thead th {\n",
              "        text-align: right;\n",
              "    }\n",
              "</style>\n",
              "<table border=\"1\" class=\"dataframe\">\n",
              "  <thead>\n",
              "    <tr style=\"text-align: right;\">\n",
              "      <th></th>\n",
              "      <th>agency_name</th>\n",
              "      <th>complaint_type</th>\n",
              "      <th>descriptor</th>\n",
              "      <th>location_type</th>\n",
              "      <th>incident_zip</th>\n",
              "      <th>incident_address</th>\n",
              "      <th>street_name</th>\n",
              "      <th>address_type</th>\n",
              "      <th>city</th>\n",
              "      <th>facility_type</th>\n",
              "      <th>...</th>\n",
              "      <th>bbl</th>\n",
              "      <th>open_data_channel_type</th>\n",
              "      <th>location</th>\n",
              "      <th>cross_street</th>\n",
              "      <th>intersection_street</th>\n",
              "      <th>xy_coordinate</th>\n",
              "      <th>created_date</th>\n",
              "      <th>created_time</th>\n",
              "      <th>closed_date</th>\n",
              "      <th>closed_time</th>\n",
              "    </tr>\n",
              "  </thead>\n",
              "  <tbody>\n",
              "    <tr>\n",
              "      <th>0</th>\n",
              "      <td>Department of Transportation</td>\n",
              "      <td>Highway Condition</td>\n",
              "      <td>Pothole - Highway</td>\n",
              "      <td>Highway</td>\n",
              "      <td>unknown_zip</td>\n",
              "      <td>unknown_incident_adress</td>\n",
              "      <td>unknown_street_name</td>\n",
              "      <td>unknown_address_type</td>\n",
              "      <td>unknown_city</td>\n",
              "      <td>unknown_facility</td>\n",
              "      <td>...</td>\n",
              "      <td>0.0</td>\n",
              "      <td>PHONE</td>\n",
              "      <td>NaN</td>\n",
              "      <td>unknown_cross_street,unknown_cross_street</td>\n",
              "      <td>unknown_intersection_1,unknown_intersection_2</td>\n",
              "      <td>0.0,0.0</td>\n",
              "      <td>2021-06-15</td>\n",
              "      <td>11:22:29</td>\n",
              "      <td>2021-06-17</td>\n",
              "      <td>08:04:37</td>\n",
              "    </tr>\n",
              "    <tr>\n",
              "      <th>1</th>\n",
              "      <td>Department of Transportation</td>\n",
              "      <td>Street Light Condition</td>\n",
              "      <td>Street Light Dayburning</td>\n",
              "      <td>unkown_location</td>\n",
              "      <td>unknown_zip</td>\n",
              "      <td>unknown_incident_adress</td>\n",
              "      <td>unknown_street_name</td>\n",
              "      <td>INTERSECTION</td>\n",
              "      <td>unknown_city</td>\n",
              "      <td>unknown_facility</td>\n",
              "      <td>...</td>\n",
              "      <td>0.0</td>\n",
              "      <td>UNKNOWN</td>\n",
              "      <td>NaN</td>\n",
              "      <td>unknown_cross_street,unknown_cross_street</td>\n",
              "      <td>CLAY PITT RD,VETERANS RD E</td>\n",
              "      <td>0.0,0.0</td>\n",
              "      <td>2021-08-17</td>\n",
              "      <td>23:52:00</td>\n",
              "      <td>2021-08-20</td>\n",
              "      <td>07:52:00</td>\n",
              "    </tr>\n",
              "    <tr>\n",
              "      <th>2</th>\n",
              "      <td>Department of Transportation</td>\n",
              "      <td>Street Light Condition</td>\n",
              "      <td>Street Light Out</td>\n",
              "      <td>unkown_location</td>\n",
              "      <td>unknown_zip</td>\n",
              "      <td>unknown_incident_adress</td>\n",
              "      <td>unknown_street_name</td>\n",
              "      <td>INTERSECTION</td>\n",
              "      <td>unknown_city</td>\n",
              "      <td>unknown_facility</td>\n",
              "      <td>...</td>\n",
              "      <td>0.0</td>\n",
              "      <td>UNKNOWN</td>\n",
              "      <td>NaN</td>\n",
              "      <td>unknown_cross_street,unknown_cross_street</td>\n",
              "      <td>SCHIEFFELIN PL,229 ST E</td>\n",
              "      <td>0.0,0.0</td>\n",
              "      <td>2021-08-18</td>\n",
              "      <td>09:47:00</td>\n",
              "      <td>2021-08-17</td>\n",
              "      <td>00:55:00</td>\n",
              "    </tr>\n",
              "  </tbody>\n",
              "</table>\n",
              "<p>3 rows × 27 columns</p>\n",
              "</div>\n",
              "      <button class=\"colab-df-convert\" onclick=\"convertToInteractive('df-fdd868ae-ce35-4018-9a27-e96dce668c64')\"\n",
              "              title=\"Convert this dataframe to an interactive table.\"\n",
              "              style=\"display:none;\">\n",
              "        \n",
              "  <svg xmlns=\"http://www.w3.org/2000/svg\" height=\"24px\"viewBox=\"0 0 24 24\"\n",
              "       width=\"24px\">\n",
              "    <path d=\"M0 0h24v24H0V0z\" fill=\"none\"/>\n",
              "    <path d=\"M18.56 5.44l.94 2.06.94-2.06 2.06-.94-2.06-.94-.94-2.06-.94 2.06-2.06.94zm-11 1L8.5 8.5l.94-2.06 2.06-.94-2.06-.94L8.5 2.5l-.94 2.06-2.06.94zm10 10l.94 2.06.94-2.06 2.06-.94-2.06-.94-.94-2.06-.94 2.06-2.06.94z\"/><path d=\"M17.41 7.96l-1.37-1.37c-.4-.4-.92-.59-1.43-.59-.52 0-1.04.2-1.43.59L10.3 9.45l-7.72 7.72c-.78.78-.78 2.05 0 2.83L4 21.41c.39.39.9.59 1.41.59.51 0 1.02-.2 1.41-.59l7.78-7.78 2.81-2.81c.8-.78.8-2.07 0-2.86zM5.41 20L4 18.59l7.72-7.72 1.47 1.35L5.41 20z\"/>\n",
              "  </svg>\n",
              "      </button>\n",
              "      \n",
              "  <style>\n",
              "    .colab-df-container {\n",
              "      display:flex;\n",
              "      flex-wrap:wrap;\n",
              "      gap: 12px;\n",
              "    }\n",
              "\n",
              "    .colab-df-convert {\n",
              "      background-color: #E8F0FE;\n",
              "      border: none;\n",
              "      border-radius: 50%;\n",
              "      cursor: pointer;\n",
              "      display: none;\n",
              "      fill: #1967D2;\n",
              "      height: 32px;\n",
              "      padding: 0 0 0 0;\n",
              "      width: 32px;\n",
              "    }\n",
              "\n",
              "    .colab-df-convert:hover {\n",
              "      background-color: #E2EBFA;\n",
              "      box-shadow: 0px 1px 2px rgba(60, 64, 67, 0.3), 0px 1px 3px 1px rgba(60, 64, 67, 0.15);\n",
              "      fill: #174EA6;\n",
              "    }\n",
              "\n",
              "    [theme=dark] .colab-df-convert {\n",
              "      background-color: #3B4455;\n",
              "      fill: #D2E3FC;\n",
              "    }\n",
              "\n",
              "    [theme=dark] .colab-df-convert:hover {\n",
              "      background-color: #434B5C;\n",
              "      box-shadow: 0px 1px 3px 1px rgba(0, 0, 0, 0.15);\n",
              "      filter: drop-shadow(0px 1px 2px rgba(0, 0, 0, 0.3));\n",
              "      fill: #FFFFFF;\n",
              "    }\n",
              "  </style>\n",
              "\n",
              "      <script>\n",
              "        const buttonEl =\n",
              "          document.querySelector('#df-fdd868ae-ce35-4018-9a27-e96dce668c64 button.colab-df-convert');\n",
              "        buttonEl.style.display =\n",
              "          google.colab.kernel.accessAllowed ? 'block' : 'none';\n",
              "\n",
              "        async function convertToInteractive(key) {\n",
              "          const element = document.querySelector('#df-fdd868ae-ce35-4018-9a27-e96dce668c64');\n",
              "          const dataTable =\n",
              "            await google.colab.kernel.invokeFunction('convertToInteractive',\n",
              "                                                     [key], {});\n",
              "          if (!dataTable) return;\n",
              "\n",
              "          const docLinkHtml = 'Like what you see? Visit the ' +\n",
              "            '<a target=\"_blank\" href=https://colab.research.google.com/notebooks/data_table.ipynb>data table notebook</a>'\n",
              "            + ' to learn more about interactive tables.';\n",
              "          element.innerHTML = '';\n",
              "          dataTable['output_type'] = 'display_data';\n",
              "          await google.colab.output.renderOutput(dataTable, element);\n",
              "          const docLink = document.createElement('div');\n",
              "          docLink.innerHTML = docLinkHtml;\n",
              "          element.appendChild(docLink);\n",
              "        }\n",
              "      </script>\n",
              "    </div>\n",
              "  </div>\n",
              "  "
            ]
          },
          "metadata": {},
          "execution_count": 16
        }
      ]
    },
    {
      "cell_type": "code",
      "source": [
        "#upload gbq\n",
        "import pandas_gbq\n",
        "\n",
        "table_id = \"mle_fazz.test_cleaned_311_copy_10K\"\n",
        "\n",
        "job_location = \"US\"\n",
        "\n",
        "pandas_gbq.to_gbq(df_mod_3,table_id,project_id,if_exists='replace',\n",
        "          location=job_location, progress_bar=True)"
      ],
      "metadata": {
        "id": "_AtvpW2IPTSZ",
        "colab": {
          "base_uri": "https://localhost:8080/"
        },
        "outputId": "dafa0c90-aa22-45b8-d8a9-18a2c2f6a692"
      },
      "execution_count": null,
      "outputs": [
        {
          "output_type": "stream",
          "name": "stderr",
          "text": [
            "1it [00:04,  4.69s/it]\n"
          ]
        }
      ]
    },
    {
      "cell_type": "markdown",
      "source": [
        ""
      ],
      "metadata": {
        "id": "Rd2o9wPYPkcv"
      }
    }
  ]
}